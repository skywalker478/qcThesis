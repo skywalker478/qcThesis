{
 "cells": [
  {
   "cell_type": "markdown",
   "metadata": {},
   "source": [
    "# Steganography"
   ]
  },
  {
   "cell_type": "markdown",
   "metadata": {},
   "source": [
    "## Module Import"
   ]
  },
  {
   "cell_type": "code",
   "execution_count": 2,
   "metadata": {},
   "outputs": [],
   "source": [
    "import wave\n",
    "import numpy as np\n",
    "import os\n",
    "from pydub import AudioSegment"
   ]
  },
  {
   "cell_type": "markdown",
   "metadata": {},
   "source": [
    "## Audio Conversion Function"
   ]
  },
  {
   "cell_type": "markdown",
   "metadata": {},
   "source": [
    "Now we define a function that check the imported cover audio if it has '.wav' extension. If not, we convert it using PyDub."
   ]
  },
  {
   "cell_type": "code",
   "execution_count": 3,
   "metadata": {},
   "outputs": [],
   "source": [
    "def convertToWav(inputFile):\n",
    "    if not os.path.exists(inputFile):\n",
    "        print(f\"Error: The input file '{inputFile}' does not exist.\")\n",
    "        return None\n",
    "    _, ext = os.path.splitext(inputFile)\n",
    "    if ext.lower() == '.wav':\n",
    "        print(f\"The file '{inputFile}' is already in WAV format.\")\n",
    "        return inputFile\n",
    "    outputFile = os.path.splitext(inputFile)[0] + '.wav'\n",
    "    try:\n",
    "        audio = AudioSegment.from_file(inputFile)\n",
    "        audio.export(outputFile, format=\"wav\")\n",
    "        print(f\"Audio successfully converted to WAV format: {outputFile}\")\n",
    "        return outputFile\n",
    "    except Exception as e:\n",
    "        print(f\"An error occurred during conversion: {e}\")\n",
    "        return None"
   ]
  },
  {
   "cell_type": "markdown",
   "metadata": {},
   "source": [
    "We do the same function on the message audio."
   ]
  },
  {
   "cell_type": "markdown",
   "metadata": {},
   "source": [
    "## Capacity Checking Function"
   ]
  },
  {
   "cell_type": "markdown",
   "metadata": {},
   "source": [
    "As cover audio can hold only so much of message audio, it is crucial to check for overflow prior performing steganography."
   ]
  },
  {
   "cell_type": "code",
   "execution_count": 4,
   "metadata": {},
   "outputs": [],
   "source": [
    "def calculate_audio_capacity(file_path):\n",
    "    \"\"\"Calculate the bit capacity of the cover audio.\"\"\"\n",
    "    with wave.open(file_path, 'rb') as wf:\n",
    "        # Extract properties\n",
    "        n_channels = wf.getnchannels()          # Number of channels\n",
    "        sample_width = wf.getsampwidth()       # Bytes per sample\n",
    "        frame_rate = wf.getframerate()         # Sampling rate (samples per second)\n",
    "        n_frames = wf.getnframes()             # Total frames\n",
    "        bit_depth = sample_width * 8           # Bits per sample\n",
    "        duration = n_frames / frame_rate       # Duration in seconds\n",
    "\n",
    "        # Calculate total number of samples\n",
    "        total_samples = n_frames * n_channels  # Each channel counts as a sample\n",
    "\n",
    "        # Capacity is 1 bit per sample for LSB steganography\n",
    "        capacity_bits = total_samples          # Total bits available for LSB\n",
    "\n",
    "        print(f\"Cover Audio Properties:\")\n",
    "        print(f\"  Duration: {duration:.2f} seconds\")\n",
    "        print(f\"  Channels: {n_channels}\")\n",
    "        print(f\"  Bit Depth: {bit_depth} bits\")\n",
    "        print(f\"  Frame Rate: {frame_rate} Hz\")\n",
    "        print(f\"  Total Samples: {total_samples}\")\n",
    "        print(f\"  Capacity for LSB Steganography: {capacity_bits} bits\")\n",
    "\n",
    "        return capacity_bits, duration\n",
    "\n",
    "\n",
    "def calculate_message_size(file_path):\n",
    "    \"\"\"Calculate the bit size of the message audio.\"\"\"\n",
    "    with wave.open(file_path, 'rb') as wf:\n",
    "        # Extract properties\n",
    "        n_channels = wf.getnchannels()\n",
    "        sample_width = wf.getsampwidth()\n",
    "        frame_rate = wf.getframerate()\n",
    "        n_frames = wf.getnframes()\n",
    "        bit_depth = sample_width * 8           # Bits per sample\n",
    "        duration = n_frames / frame_rate       # Duration in seconds\n",
    "\n",
    "        # Total number of samples in the message audio\n",
    "        total_samples = n_frames * n_channels\n",
    "\n",
    "        # Total bits in the message\n",
    "        total_bits = total_samples * bit_depth\n",
    "\n",
    "        print(f\"Message Audio Properties:\")\n",
    "        print(f\"  Duration: {duration:.2f} seconds\")\n",
    "        print(f\"  Channels: {n_channels}\")\n",
    "        print(f\"  Bit Depth: {bit_depth} bits\")\n",
    "        print(f\"  Frame Rate: {frame_rate} Hz\")\n",
    "        print(f\"  Total Samples: {total_samples}\")\n",
    "        print(f\"  Message Size: {total_bits} bits\")\n",
    "\n",
    "        return total_bits\n",
    "\n",
    "\n",
    "def check_capacity(cover_audio_path, message_audio_path):\n",
    "    \"\"\"Check if the message audio can fit into the cover audio.\"\"\"\n",
    "    if not os.path.exists(cover_audio_path):\n",
    "        print(f\"Error: Cover audio file '{cover_audio_path}' not found.\")\n",
    "        return False\n",
    "    if not os.path.exists(message_audio_path):\n",
    "        print(f\"Error: Message audio file '{message_audio_path}' not found.\")\n",
    "        return False\n",
    "\n",
    "    # Calculate cover audio capacity\n",
    "    cover_capacity, cover_duration = calculate_audio_capacity(cover_audio_path)\n",
    "\n",
    "    # Calculate message audio size\n",
    "    message_size = calculate_message_size(message_audio_path)\n",
    "\n",
    "    # Compare capacities\n",
    "    if cover_capacity >= message_size:\n",
    "        print(f\"\\nSuccess: The message audio can fit into the cover audio!\")\n",
    "        print(f\"  Cover Audio Capacity: {cover_capacity} bits\")\n",
    "        print(f\"  Message Audio Size: {message_size} bits\")\n",
    "        return True\n",
    "    else:\n",
    "        print(f\"\\nError: The message audio is too large to fit into the cover audio.\")\n",
    "        print(f\"  Cover Audio Capacity: {cover_capacity} bits\")\n",
    "        print(f\"  Message Audio Size: {message_size} bits\")\n",
    "        print(f\"  You would need a larger cover audio or a smaller message audio.\")\n",
    "        return False"
   ]
  },
  {
   "cell_type": "markdown",
   "metadata": {},
   "source": [
    "## Audio to Binary Conversion Function"
   ]
  },
  {
   "cell_type": "markdown",
   "metadata": {},
   "source": [
    "Now, we define a function that will convert both the cover and message audio as per their metadata."
   ]
  },
  {
   "cell_type": "code",
   "execution_count": 5,
   "metadata": {},
   "outputs": [],
   "source": [
    "def audio_to_binary(audio_path):\n",
    "    \"\"\"Convert audio samples to a binary stream.\"\"\"\n",
    "    with wave.open(audio_path, 'rb') as wf:\n",
    "        n_channels = wf.getnchannels()\n",
    "        sample_width = wf.getsampwidth()\n",
    "        n_frames = wf.getnframes()\n",
    "\n",
    "        # Read raw frames and convert to integers\n",
    "        raw_frames = wf.readframes(n_frames)\n",
    "        # Maximum integer based on sample width\n",
    "        max_int = 2 ** (sample_width * 8)\n",
    "\n",
    "        # Convert raw bytes to integers, taking sample width into account\n",
    "        samples = [\n",
    "            int.from_bytes(raw_frames[i:i+sample_width],\n",
    "                           'little', signed=(sample_width > 1))\n",
    "            for i in range(0, len(raw_frames), sample_width)\n",
    "        ]\n",
    "\n",
    "        # Convert each sample to binary\n",
    "        binary_stream = ''.join(\n",
    "            f'{(sample + max_int) % max_int:0{sample_width * 8}b}' for sample in samples)\n",
    "        return binary_stream, n_channels"
   ]
  },
  {
   "cell_type": "markdown",
   "metadata": {},
   "source": [
    "## Channel-wise LSB Steganography Function"
   ]
  },
  {
   "cell_type": "markdown",
   "metadata": {},
   "source": [
    "Now, we define a function that will perform channel-wise lsb steganography, that is, encode the message audio in the cover audio."
   ]
  },
  {
   "cell_type": "code",
   "execution_count": 6,
   "metadata": {},
   "outputs": [],
   "source": [
    "def encode_lsb(cover_audio_path, message_audio_path, output_path):\n",
    "    \"\"\"Perform LSB steganography to encode the message audio into the cover audio.\"\"\"\n",
    "    # Load the cover audio and message audio\n",
    "    with wave.open(cover_audio_path, 'rb') as cover_wav, wave.open(message_audio_path, 'rb') as message_wav:\n",
    "        # Cover audio properties\n",
    "        cover_channels = cover_wav.getnchannels()\n",
    "        cover_sample_width = cover_wav.getsampwidth()\n",
    "        cover_frame_rate = cover_wav.getframerate()\n",
    "        cover_frames = cover_wav.getnframes()\n",
    "\n",
    "        # Message audio binary stream\n",
    "        message_binary, message_channels = audio_to_binary(message_audio_path)\n",
    "\n",
    "        # Ensure the message can fit into the cover\n",
    "        total_cover_samples = cover_frames * cover_channels\n",
    "        if len(message_binary) > total_cover_samples:\n",
    "            raise ValueError(\n",
    "                \"Message audio is too large to fit into the cover audio.\")\n",
    "\n",
    "        # Read cover audio frames\n",
    "        raw_cover_frames = cover_wav.readframes(cover_frames)\n",
    "        cover_samples = [\n",
    "            int.from_bytes(\n",
    "                raw_cover_frames[i:i+cover_sample_width], 'little', signed=(cover_sample_width > 1))\n",
    "            for i in range(0, len(raw_cover_frames), cover_sample_width)\n",
    "        ]\n",
    "\n",
    "        # Encode the message into the LSB of cover audio\n",
    "        message_index = 0\n",
    "        # Maximum integer based on sample width\n",
    "        max_int = 2 ** (cover_sample_width * 8)\n",
    "        for i in range(len(cover_samples)):\n",
    "            if message_index < len(message_binary):\n",
    "                # Modify the LSB of the cover sample\n",
    "                cover_samples[i] = (cover_samples[i] & ~1) | int(\n",
    "                    message_binary[message_index])\n",
    "                message_index += 1\n",
    "\n",
    "        # Convert back to bytes\n",
    "        stego_frames = b''.join(\n",
    "            ((sample + max_int) % max_int).to_bytes(cover_sample_width,\n",
    "                                                    'little', signed=(cover_sample_width > 1))\n",
    "            for sample in cover_samples\n",
    "        )\n",
    "\n",
    "        # Write the stego audio to a new WAV file\n",
    "        with wave.open(output_path, 'wb') as stego_wav:\n",
    "            stego_wav.setnchannels(cover_channels)\n",
    "            stego_wav.setsampwidth(cover_sample_width)\n",
    "            stego_wav.setframerate(cover_frame_rate)\n",
    "            stego_wav.writeframes(stego_frames)\n",
    "\n",
    "    print(f\"Message audio has been encoded into the cover audio and saved to {\n",
    "          output_path}\")"
   ]
  },
  {
   "cell_type": "markdown",
   "metadata": {},
   "source": []
  }
 ],
 "metadata": {
  "kernelspec": {
   "display_name": "base",
   "language": "python",
   "name": "python3"
  },
  "language_info": {
   "codemirror_mode": {
    "name": "ipython",
    "version": 3
   },
   "file_extension": ".py",
   "mimetype": "text/x-python",
   "name": "python",
   "nbconvert_exporter": "python",
   "pygments_lexer": "ipython3",
   "version": "3.12.3"
  }
 },
 "nbformat": 4,
 "nbformat_minor": 2
}
