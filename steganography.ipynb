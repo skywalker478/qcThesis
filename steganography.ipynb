{
 "cells": [
  {
   "cell_type": "markdown",
   "metadata": {},
   "source": [
    "# Steganography"
   ]
  },
  {
   "cell_type": "markdown",
   "metadata": {},
   "source": [
    "## Module Import"
   ]
  },
  {
   "cell_type": "code",
   "execution_count": 2,
   "metadata": {},
   "outputs": [],
   "source": [
    "import wave\n",
    "import numpy as np\n",
    "import os\n",
    "from pydub import AudioSegment"
   ]
  },
  {
   "cell_type": "markdown",
   "metadata": {},
   "source": [
    "## Audio Conversion Function"
   ]
  },
  {
   "cell_type": "markdown",
   "metadata": {},
   "source": [
    "Now we define a function that check the imported cover audio if it has '.wav' extension. If not, we convert it using PyDub."
   ]
  },
  {
   "cell_type": "code",
   "execution_count": 3,
   "metadata": {},
   "outputs": [],
   "source": [
    "def convertToWav(inputFile):\n",
    "    if not os.path.exists(inputFile):\n",
    "        print(f\"Error: The input file '{inputFile}' does not exist.\")\n",
    "        return None\n",
    "    _, ext = os.path.splitext(inputFile)\n",
    "    if ext.lower() == '.wav':\n",
    "        print(f\"The file '{inputFile}' is already in WAV format.\")\n",
    "        return inputFile\n",
    "    outputFile = os.path.splitext(inputFile)[0] + '.wav'\n",
    "    try:\n",
    "        audio = AudioSegment.from_file(inputFile)\n",
    "        audio.export(outputFile, format=\"wav\")\n",
    "        print(f\"Audio successfully converted to WAV format: {outputFile}\")\n",
    "        return outputFile\n",
    "    except Exception as e:\n",
    "        print(f\"An error occurred during conversion: {e}\")\n",
    "        return None"
   ]
  },
  {
   "cell_type": "markdown",
   "metadata": {},
   "source": [
    "We do the same function on the message audio."
   ]
  },
  {
   "cell_type": "markdown",
   "metadata": {},
   "source": [
    "## Capacity Checking Function"
   ]
  },
  {
   "cell_type": "markdown",
   "metadata": {},
   "source": [
    "As cover audio can hold only so much of message audio, it is crucial to check for overflow prior performing steganography."
   ]
  },
  {
   "cell_type": "code",
   "execution_count": null,
   "metadata": {},
   "outputs": [],
   "source": [
    "def calculateAudioCapacity(filePath):\n",
    "    with wave.open(filePath, 'rb') as wf:\n",
    "        # Extract properties\n",
    "        channels = wf.getnchannels()          # Number of channels\n",
    "        sampleWidth = wf.getsampwidth()       # Bytes per sample\n",
    "        frameRate = wf.getframerate()         # Sampling rate (samples per second)\n",
    "        frames = wf.getnframes()             # Total frames\n",
    "        bitDepth = sampleWidth * 8           # Bits per sample\n",
    "        duration = frames / frameRate       # Duration in seconds\n",
    "        # Calculate total number of samples\n",
    "        totalSamples = frames * channels  # Each channel counts as a sample\n",
    "\n",
    "        # Capacity is 1 bit per sample for LSB steganography\n",
    "        capacityBits = totalSamples          # Total bits available for LSB\n",
    "\n",
    "        print(f\"Cover Audio Properties:\")\n",
    "        print(f\"  Duration: {duration:.2f} seconds\")\n",
    "        print(f\"  Channels: {channels}\")\n",
    "        print(f\"  Bit Depth: {bitDepth} bits\")\n",
    "        print(f\"  Frame Rate: {frameRate} Hz\")\n",
    "        print(f\"  Total Samples: {totalSamples}\")\n",
    "        print(f\"  Capacity for LSB Steganography: {capacityBits} bits\")\n",
    "\n",
    "        return capacityBits, duration\n",
    "\n",
    "\n",
    "def calculateMessageSize(filePath):\n",
    "    with wave.open(filePath, 'rb') as wf:\n",
    "        # Extract properties\n",
    "        channels = wf.getnchannels()\n",
    "        sampleWidth = wf.getsampwidth()\n",
    "        frameRate = wf.getframerate()\n",
    "        frames = wf.getnframes()\n",
    "        bitDepth = sample_width * 8           # Bits per sample\n",
    "        duration = frames / frameRate       # Duration in seconds\n",
    "\n",
    "        # Total number of samples in the message audio\n",
    "        totalSamples = frames * channels\n",
    "\n",
    "        # Total bits in the message\n",
    "        totalBits = totalSamples * bitDepth\n",
    "\n",
    "        print(f\"Message Audio Properties:\")\n",
    "        print(f\"  Duration: {duration:.2f} seconds\")\n",
    "        print(f\"  Channels: {channels}\")\n",
    "        print(f\"  Bit Depth: {bitDepth} bits\")\n",
    "        print(f\"  Frame Rate: {frameRate} Hz\")\n",
    "        print(f\"  Total Samples: {totalSamples}\")\n",
    "        print(f\"  Message Size: {totalBits} bits\")\n",
    "\n",
    "        return totalBits\n",
    "\n",
    "\n",
    "def checkCapacity(coverAudioPath, messageAudioPath):\n",
    "    if not os.path.exists(coverAudioPath):\n",
    "        print(f\"Error: Cover audio file '{coverAudioPath}' not found.\")\n",
    "        return False\n",
    "    if not os.path.exists(messageAudioPath):\n",
    "        print(f\"Error: Message audio file '{messageAudioPath}' not found.\")\n",
    "        return False\n",
    "\n",
    "    # Calculate cover audio capacity\n",
    "    coverCapacity, coverDuration = calculateAudioCapacity(coverAudioPath)\n",
    "\n",
    "    # Calculate message audio size\n",
    "    messageSize = calculateMessageSize(messageAudioPath)\n",
    "\n",
    "    # Compare capacities\n",
    "    if coverCapacity >= messagSize:\n",
    "        print(f\"\\nSuccess: The message audio can fit into the cover audio!\")\n",
    "        print(f\"  Cover Audio Capacity: {coverCapacity} bits\")\n",
    "        print(f\"  Message Audio Size: {messageSize} bits\")\n",
    "        return True\n",
    "    else:\n",
    "        print(f\"\\nError: The message audio is too large to fit into the cover audio.\")\n",
    "        print(f\"  Cover Audio Capacity: {coverCapacity} bits\")\n",
    "        print(f\"  Message Audio Size: {messageSize} bits\")\n",
    "        print(f\"  You would need a larger cover audio or a smaller message audio.\")\n",
    "        return False"
   ]
  },
  {
   "cell_type": "markdown",
   "metadata": {},
   "source": [
    "## Audio to Binary Conversion Function"
   ]
  },
  {
   "cell_type": "markdown",
   "metadata": {},
   "source": [
    "Now, we define a function that will convert both the cover and message audio as per their metadata."
   ]
  },
  {
   "cell_type": "code",
   "execution_count": 8,
   "metadata": {},
   "outputs": [],
   "source": [
    "def audioToBinary(audioPath):\n",
    "    with wave.open(audioPath, 'rb') as wf:\n",
    "        channels = wf.getnchannels()\n",
    "        sampleWidth = wf.getsampwidth()\n",
    "        frames = wf.getnframes()\n",
    "\n",
    "        # Read raw frames and convert to integers\n",
    "        rawFrames = wf.readframes(frames)\n",
    "        # Maximum integer based on sample width\n",
    "        maxInt = 2 ** (sampleWidth * 8)\n",
    "\n",
    "        # Convert raw bytes to integers, taking sample width into account\n",
    "        samples = [\n",
    "            int.from_bytes(rawFrames[i:i+sampleWidth],\n",
    "                           'little', signed=(sampleWidth > 1))\n",
    "            for i in range(0, len(rawFrames), sampleWidth)\n",
    "        ]\n",
    "\n",
    "        # Convert each sample to binary\n",
    "        binaryStream = ''.join(\n",
    "            f'{(sample + maxInt) % maxInt:0{sampleWidth * 8}b}' for sample in samples)\n",
    "        return binaryStream, channels"
   ]
  },
  {
   "cell_type": "markdown",
   "metadata": {},
   "source": [
    "## Channel-wise LSB Steganography Function"
   ]
  },
  {
   "cell_type": "markdown",
   "metadata": {},
   "source": [
    "Now, we define a function that will perform channel-wise lsb steganography, that is, encode the message audio in the cover audio."
   ]
  },
  {
   "cell_type": "code",
   "execution_count": 9,
   "metadata": {},
   "outputs": [],
   "source": [
    "def encodeLSB(coverAudioPath, messageAudioPath, outputPath):\n",
    "    # Load the cover audio and message audio\n",
    "    with wave.open(coverAudioPath, 'rb') as coverWav, wave.open(messageAudioPath, 'rb') as messageWav:\n",
    "        # Cover audio properties\n",
    "        coverChannels = coverWav.getnchannels()\n",
    "        coverSampleWidth = coverWav.getsampwidth()\n",
    "        coverFrameRate = coverWav.getframerate()\n",
    "        coverFrames = coverWav.getnframes()\n",
    "        # Message audio binary stream\n",
    "        messageBinary, messageChannels = audioToBinary(messageAudioPath)\n",
    "        # Ensure the message can fit into the cover\n",
    "        totalCoverSamples = coverFrames * coverChannels\n",
    "        if len(messageBinary) > totalCoverSamples:\n",
    "            raise ValueError(\n",
    "                \"Message audio is too large to fit into the cover audio.\")\n",
    "        # Read cover audio frames\n",
    "        rawCoverFrames = coverWav.readframes(coverFrames)\n",
    "        coverSamples = [\n",
    "            int.from_bytes(\n",
    "                rawCoverFrames[i:i+coverSampleWidth], 'little', signed=(coverSampleWidth > 1))\n",
    "            for i in range(0, len(rawCoverFrames), coverSampleWidth)\n",
    "        ]\n",
    "        # Encode the message into the LSB of cover audio\n",
    "        messageIndex = 0\n",
    "        # Maximum integer based on sample width\n",
    "        maxInt = 2 ** (coverSampleWidth * 8)\n",
    "        for i in range(len(coverSamples)):\n",
    "            if messageIndex < len(messageBinary):\n",
    "                # Modify the LSB of the cover sample\n",
    "                coverSamples[i] = (coverSamples[i] & ~1) | int(\n",
    "                    messageBinary[messageIndex])\n",
    "                messageIndex += 1\n",
    "        # Convert back to bytes\n",
    "        stegoFrames = b''.join(\n",
    "            ((sample + maxInt) % maxInt).to_bytes(coverSampleWidth,\n",
    "                                                  'little', signed=(coverSampleWidth > 1))\n",
    "            for sample in coverSamples\n",
    "        )\n",
    "        # Write the stego audio to a new WAV file\n",
    "        with wave.open(outputPath, 'wb') as stegoWav:\n",
    "            stegoWav.setnchannels(coverChannels)\n",
    "            stegoWav.setsampwidth(coverSampleWidth)\n",
    "            stegoWav.setframerate(coverFrameRate)\n",
    "            stegoWav.writeframes(stegoFrames)\n",
    "\n",
    "    print(f\"Message audio has been encoded into the cover audio and saved to {\n",
    "          outputPath}\")"
   ]
  },
  {
   "cell_type": "markdown",
   "metadata": {},
   "source": [
    "Now, we define a function that will decrypt the stego audio and retrieve the message audio. However, in decryption we have to specify the bit depth and channels in the message audio, as the code will not work otherwise. It is assumed that a mono audio signal with 16 bit depth is the message signal."
   ]
  },
  {
   "cell_type": "code",
   "execution_count": 10,
   "metadata": {},
   "outputs": [],
   "source": [
    "def decodeLSB(stegoAudioPath, messageAudioPath, messageBitDepth=16, messageChannels=1):\n",
    "    with wave.open(stego_audio_path, 'rb') as stegoWav:\n",
    "        # Extract stego audio properties\n",
    "        stegoChannels = stegoWav.getnchannels()\n",
    "        stegoSampleWidth = stegoWav.getsampwidth()\n",
    "        stegoFrameRate = stegoWav.getframerate()\n",
    "        stegoFrames = stegoWav.getnframes()\n",
    "        # Read all samples from the stego audio\n",
    "        rawStegoFrames = stegoWav.readframes(stegoFrames)\n",
    "        # Maximum integer based on sample width\n",
    "        maxInt = 2 ** (stegoSampleWidth * 8)\n",
    "        # Extract samples as integers\n",
    "        stegoSamples = [\n",
    "            int.from_bytes(\n",
    "                rawStegoFrames[i:i+stegoSampleWidth], 'little', signed=(stegoSampleWidth > 1))\n",
    "            for i in range(0, len(rawStegoFrames), stegoSampleWidth)\n",
    "        ]\n",
    "        # Extract LSBs from stego samples\n",
    "        binaryStream = ''.join(str(sample & 1) for sample in stegoSamples)\n",
    "        # Reconstruct message samples from binary stream\n",
    "        messageSamples = [\n",
    "            int(binaryStream[i:i+messageBitDepth], 2) -\n",
    "            (2 ** (messageBitDepth - 1))\n",
    "            for i in range(0, len(binaryStream), messageBitDepth)\n",
    "            if i + messageBitDepth <= len(binaryStream)\n",
    "        ]\n",
    "        # Adjust for multi-channel message audio\n",
    "        messageFrames = len(messageSamples) // message_channels\n",
    "        messageSamples = messageSamples[:messageFrames * messageChannels]\n",
    "        # Write the reconstructed message audio to a new file\n",
    "        with wave.open(message_audio_path, 'wb') as messageWav:\n",
    "            messageSampleWidth = messageBitDepth // 8  # Convert bit depth to bytes\n",
    "            messageWav.setnchannels(messageChannels)\n",
    "            messageWav.setsampwidth(messageSampleWidth)\n",
    "            messageWav.setframerate(stegoFrameRate)\n",
    "            messageWav.writeframes(\n",
    "                b''.join(\n",
    "                    (sample + maxInt // 2).to_bytes(messageSampleWidth,\n",
    "                                                    'little', signed=(messageSampleWidth > 1))\n",
    "                    for sample in messageSamples\n",
    "                )\n",
    "            )\n",
    "\n",
    "    print(f\"Hidden message audio has been decoded and saved to {\n",
    "          messageAudioPath}\")"
   ]
  },
  {
   "cell_type": "markdown",
   "metadata": {},
   "source": [
    "# Experiment Section"
   ]
  },
  {
   "cell_type": "code",
   "execution_count": 1,
   "metadata": {},
   "outputs": [
    {
     "ename": "",
     "evalue": "",
     "output_type": "error",
     "traceback": [
      "\u001b[1;31mThe Kernel crashed while executing code in the current cell or a previous cell. \n",
      "\u001b[1;31mPlease review the code in the cell(s) to identify a possible cause of the failure. \n",
      "\u001b[1;31mClick <a href='https://aka.ms/vscodeJupyterKernelCrash'>here</a> for more info. \n",
      "\u001b[1;31mView Jupyter <a href='command:jupyter.viewOutput'>log</a> for further details."
     ]
    }
   ],
   "source": [
    "import qiskit\n",
    "import random\n",
    "import numpy\n",
    "import math\n",
    "import matplotlib\n",
    "import re\n",
    "import qiskit_aer\n",
    "from qiskit import QuantumCircuit, QuantumRegister, ClassicalRegister, transpile\n",
    "from qiskit.providers.basic_provider import BasicProvider\n",
    "from qiskit.visualization import circuit_drawer, plot_histogram\n",
    "qiskit.__version__"
   ]
  },
  {
   "cell_type": "code",
   "execution_count": 55,
   "metadata": {},
   "outputs": [],
   "source": [
    "qr = QuantumRegister(2, name='qr')\n",
    "cr = ClassicalRegister(4, name='cr')"
   ]
  },
  {
   "cell_type": "code",
   "execution_count": 56,
   "metadata": {},
   "outputs": [
    {
     "data": {
      "image/png": "[encoded data removed]",
      "text/plain": [
       "<Figure size 299.314x284.278 with 1 Axes>"
      ]
     },
     "execution_count": 56,
     "metadata": {},
     "output_type": "execute_result"
    }
   ],
   "source": [
    "singlet = QuantumCircuit(qr, cr, name='singlet')\n",
    "singlet.h(qr[0])\n",
    "singlet.cx(qr[0], qr[1])\n",
    "singlet.draw(output='mpl')"
   ]
  },
  {
   "cell_type": "code",
   "execution_count": 57,
   "metadata": {},
   "outputs": [
    {
     "data": {
      "text/plain": [
       "<qiskit.circuit.instructionset.InstructionSet at 0x16398c829b0>"
      ]
     },
     "execution_count": 57,
     "metadata": {},
     "output_type": "execute_result"
    }
   ],
   "source": [
    "measureA1 = QuantumCircuit(qr, cr, name='measureA1')\n",
    "measureA1.h(qr[0])\n",
    "measureA1.measure(qr[0], cr[0])\n",
    "\n",
    "measureA2 = QuantumCircuit(qr, cr, name='measureA2')\n",
    "measureA2.s(qr[0])\n",
    "measureA2.h(qr[0])\n",
    "measureA2.t(qr[0])\n",
    "measureA2.measure(qr[0], cr[0])\n",
    "\n",
    "measureA3 = QuantumCircuit(qr, cr, name='measureA3')\n",
    "measureA3.measure(qr[0], cr[0])"
   ]
  },
  {
   "cell_type": "code",
   "execution_count": 58,
   "metadata": {},
   "outputs": [
    {
     "data": {
      "image/png": "[encoded data removed]",
      "text/plain": [
       "<Figure size 299.314x284.278 with 1 Axes>"
      ]
     },
     "execution_count": 58,
     "metadata": {},
     "output_type": "execute_result"
    }
   ],
   "source": [
    "measureA1.draw(output='mpl')"
   ]
  },
  {
   "cell_type": "code",
   "execution_count": 59,
   "metadata": {},
   "outputs": [
    {
     "data": {
      "image/png": "[encoded data removed]",
      "text/plain": [
       "<Figure size 466.536x284.278 with 1 Axes>"
      ]
     },
     "execution_count": 59,
     "metadata": {},
     "output_type": "execute_result"
    }
   ],
   "source": [
    "\n",
    "measureA2.draw(output='mpl')"
   ]
  },
  {
   "cell_type": "code",
   "execution_count": 60,
   "metadata": {},
   "outputs": [
    {
     "data": {
      "image/png": "[encoded data removed]",
      "text/plain": [
       "<Figure size 215.702x284.278 with 1 Axes>"
      ]
     },
     "execution_count": 60,
     "metadata": {},
     "output_type": "execute_result"
    }
   ],
   "source": [
    "measureA3.draw(output='mpl')"
   ]
  },
  {
   "cell_type": "code",
   "execution_count": 61,
   "metadata": {},
   "outputs": [
    {
     "data": {
      "text/plain": [
       "<qiskit.circuit.instructionset.InstructionSet at 0x1639a7c69e0>"
      ]
     },
     "execution_count": 61,
     "metadata": {},
     "output_type": "execute_result"
    }
   ],
   "source": [
    "measureB1 = QuantumCircuit(qr, cr, name='measureB1')\n",
    "measureB1.measure(qr[1], cr[1])\n",
    "\n",
    "measureB2 = QuantumCircuit(qr, cr, name='measureB2')\n",
    "measureB2.h(qr[1])\n",
    "measureB2.t(qr[1])\n",
    "measureB2.measure(qr[1], cr[1])\n",
    "\n",
    "measureB3 = QuantumCircuit(qr, cr, name='measureB3')\n",
    "measureB3.s(qr[1])\n",
    "measureB3.h(qr[1])\n",
    "measureB3.measure(qr[1], cr[1])"
   ]
  },
  {
   "cell_type": "code",
   "execution_count": 62,
   "metadata": {},
   "outputs": [
    {
     "data": {
      "image/png": "[encoded data removed]",
      "text/plain": [
       "<Figure size 215.702x284.278 with 1 Axes>"
      ]
     },
     "execution_count": 62,
     "metadata": {},
     "output_type": "execute_result"
    }
   ],
   "source": [
    "measureB1.draw(output='mpl')"
   ]
  },
  {
   "cell_type": "code",
   "execution_count": 63,
   "metadata": {},
   "outputs": [
    {
     "data": {
      "image/png": "[encoded data removed]",
      "text/plain": [
       "<Figure size 382.925x284.278 with 1 Axes>"
      ]
     },
     "execution_count": 63,
     "metadata": {},
     "output_type": "execute_result"
    }
   ],
   "source": [
    "measureB2.draw(output='mpl')"
   ]
  },
  {
   "cell_type": "code",
   "execution_count": 64,
   "metadata": {},
   "outputs": [
    {
     "data": {
      "image/png": "[encoded data removed]",
      "text/plain": [
       "<Figure size 382.925x284.278 with 1 Axes>"
      ]
     },
     "execution_count": 64,
     "metadata": {},
     "output_type": "execute_result"
    }
   ],
   "source": [
    "measureB3.draw(output='mpl')"
   ]
  },
  {
   "cell_type": "code",
   "execution_count": 65,
   "metadata": {},
   "outputs": [],
   "source": [
    "aliceMeasurements = [measureA1, measureA2, measureA3]\n",
    "bobMeasurements = [measureB1, measureB2, measureB3]"
   ]
  },
  {
   "cell_type": "code",
   "execution_count": 66,
   "metadata": {},
   "outputs": [],
   "source": [
    "numberOfSinglets = 500"
   ]
  },
  {
   "cell_type": "code",
   "execution_count": 67,
   "metadata": {},
   "outputs": [],
   "source": [
    "aliceMeasurementChoices = [random.randint(\n",
    "    1, 3) for i in range(numberOfSinglets)]\n",
    "bobMeasurementChoices = [random.randint(1, 3) for i in range(numberOfSinglets)]\n",
    "\n",
    "circuits = []\n",
    "for i in range(numberOfSinglets):\n",
    "    circuitName = singlet.compose(\n",
    "        aliceMeasurements[aliceMeasurementChoices[i]-1])\n",
    "    circuitName = circuitName.compose(\n",
    "        bobMeasurements[bobMeasurementChoices[i]-1])\n",
    "    circuits.append(circuitName)"
   ]
  },
  {
   "cell_type": "code",
   "execution_count": 68,
   "metadata": {},
   "outputs": [
    {
     "data": {
      "image/png": "[encoded data removed]",
      "text/plain": [
       "<Figure size 633.758x284.278 with 1 Axes>"
      ]
     },
     "execution_count": 68,
     "metadata": {},
     "output_type": "execute_result"
    }
   ],
   "source": [
    "circuits[50].draw(output='mpl')"
   ]
  },
  {
   "cell_type": "code",
   "execution_count": null,
   "metadata": {},
   "outputs": [
    {
     "ename": "NameError",
     "evalue": "name 'Aer' is not defined",
     "output_type": "error",
     "traceback": [
      "\u001b[1;31m---------------------------------------------------------------------------\u001b[0m",
      "\u001b[1;31mNameError\u001b[0m                                 Traceback (most recent call last)",
      "Cell \u001b[1;32mIn[1], line 1\u001b[0m\n\u001b[1;32m----> 1\u001b[0m backend \u001b[38;5;241m=\u001b[39m \u001b[43mAer\u001b[49m\u001b[38;5;241m.\u001b[39mget_backend(\u001b[38;5;124m'\u001b[39m\u001b[38;5;124mqasm_simulator\u001b[39m\u001b[38;5;124m'\u001b[39m)\n\u001b[0;32m      2\u001b[0m simulationCircuit \u001b[38;5;241m=\u001b[39m transpile(circuits, backend)\n\u001b[0;32m      3\u001b[0m job \u001b[38;5;241m=\u001b[39m backend\u001b[38;5;241m.\u001b[39mrun(simulationCircuit, shots\u001b[38;5;241m=\u001b[39m\u001b[38;5;241m1\u001b[39m)\n",
      "\u001b[1;31mNameError\u001b[0m: name 'Aer' is not defined"
     ]
    }
   ],
   "source": [
    "backend = Aer.get_backend('qasm_simulator')\n",
    "simulationCircuit = transpile(circuits, backend)\n",
    "job = backend.run(simulationCircuit, shots=1)\n",
    "result = job.result()\n",
    "result.get_counts(circuits[4])"
   ]
  },
  {
   "cell_type": "code",
   "execution_count": 70,
   "metadata": {},
   "outputs": [],
   "source": [
    "abPatterns = [re.compile('..00$'), re.compile(\n",
    "    '..01$'), re.compile('..10$'), re.compile('..11$')]"
   ]
  },
  {
   "cell_type": "code",
   "execution_count": 74,
   "metadata": {},
   "outputs": [
    {
     "name": "stdout",
     "output_type": "stream",
     "text": [
      "{'0010': 1}\n",
      "{'0010': 1}\n",
      "{'0010': 1}\n",
      "{'0010': 1}\n",
      "{'0010': 1}\n",
      "{'0010': 1}\n",
      "{'0010': 1}\n",
      "{'0010': 1}\n",
      "{'0010': 1}\n",
      "{'0010': 1}\n",
      "{'0010': 1}\n",
      "{'0010': 1}\n",
      "{'0010': 1}\n",
      "{'0010': 1}\n",
      "{'0010': 1}\n",
      "{'0010': 1}\n",
      "{'0010': 1}\n",
      "{'0010': 1}\n",
      "{'0010': 1}\n",
      "{'0010': 1}\n",
      "{'0010': 1}\n",
      "{'0010': 1}\n",
      "{'0010': 1}\n",
      "{'0010': 1}\n",
      "{'0010': 1}\n",
      "{'0010': 1}\n",
      "{'0010': 1}\n",
      "{'0010': 1}\n",
      "{'0010': 1}\n",
      "{'0010': 1}\n",
      "{'0010': 1}\n",
      "{'0010': 1}\n",
      "{'0010': 1}\n",
      "{'0010': 1}\n",
      "{'0010': 1}\n",
      "{'0010': 1}\n",
      "{'0010': 1}\n",
      "{'0010': 1}\n",
      "{'0010': 1}\n",
      "{'0010': 1}\n",
      "{'0010': 1}\n",
      "{'0010': 1}\n",
      "{'0010': 1}\n",
      "{'0010': 1}\n",
      "{'0010': 1}\n",
      "{'0010': 1}\n",
      "{'0010': 1}\n",
      "{'0010': 1}\n",
      "{'0010': 1}\n",
      "{'0010': 1}\n",
      "{'0010': 1}\n",
      "{'0010': 1}\n",
      "{'0010': 1}\n",
      "{'0010': 1}\n",
      "{'0010': 1}\n",
      "{'0010': 1}\n",
      "{'0010': 1}\n",
      "{'0010': 1}\n",
      "{'0010': 1}\n",
      "{'0010': 1}\n",
      "{'0010': 1}\n",
      "{'0010': 1}\n",
      "{'0010': 1}\n",
      "{'0010': 1}\n",
      "{'0010': 1}\n",
      "{'0010': 1}\n",
      "{'0010': 1}\n",
      "{'0010': 1}\n",
      "{'0010': 1}\n",
      "{'0010': 1}\n",
      "{'0010': 1}\n",
      "{'0010': 1}\n",
      "{'0010': 1}\n",
      "{'0010': 1}\n",
      "{'0010': 1}\n",
      "{'0010': 1}\n",
      "{'0010': 1}\n",
      "{'0010': 1}\n",
      "{'0010': 1}\n",
      "{'0010': 1}\n",
      "{'0010': 1}\n",
      "{'0010': 1}\n",
      "{'0010': 1}\n",
      "{'0010': 1}\n",
      "{'0010': 1}\n",
      "{'0010': 1}\n",
      "{'0010': 1}\n",
      "{'0010': 1}\n",
      "{'0010': 1}\n",
      "{'0010': 1}\n",
      "{'0010': 1}\n",
      "{'0010': 1}\n",
      "{'0010': 1}\n",
      "{'0010': 1}\n",
      "{'0010': 1}\n",
      "{'0010': 1}\n",
      "{'0010': 1}\n",
      "{'0010': 1}\n",
      "{'0010': 1}\n",
      "{'0010': 1}\n",
      "{'0010': 1}\n",
      "{'0010': 1}\n",
      "{'0010': 1}\n",
      "{'0010': 1}\n",
      "{'0010': 1}\n",
      "{'0010': 1}\n",
      "{'0010': 1}\n",
      "{'0010': 1}\n",
      "{'0010': 1}\n",
      "{'0010': 1}\n",
      "{'0010': 1}\n",
      "{'0010': 1}\n",
      "{'0010': 1}\n",
      "{'0010': 1}\n",
      "{'0010': 1}\n",
      "{'0010': 1}\n",
      "{'0010': 1}\n",
      "{'0010': 1}\n",
      "{'0010': 1}\n",
      "{'0010': 1}\n",
      "{'0010': 1}\n",
      "{'0010': 1}\n",
      "{'0010': 1}\n",
      "{'0010': 1}\n",
      "{'0010': 1}\n",
      "{'0010': 1}\n",
      "{'0010': 1}\n",
      "{'0010': 1}\n",
      "{'0010': 1}\n",
      "{'0010': 1}\n",
      "{'0010': 1}\n",
      "{'0010': 1}\n",
      "{'0010': 1}\n",
      "{'0010': 1}\n",
      "{'0010': 1}\n",
      "{'0010': 1}\n",
      "{'0010': 1}\n",
      "{'0010': 1}\n",
      "{'0010': 1}\n",
      "{'0010': 1}\n",
      "{'0010': 1}\n",
      "{'0010': 1}\n",
      "{'0010': 1}\n",
      "{'0010': 1}\n",
      "{'0010': 1}\n",
      "{'0010': 1}\n",
      "{'0010': 1}\n",
      "{'0010': 1}\n",
      "{'0010': 1}\n",
      "{'0010': 1}\n",
      "{'0010': 1}\n",
      "{'0010': 1}\n",
      "{'0010': 1}\n",
      "{'0010': 1}\n",
      "{'0010': 1}\n",
      "{'0010': 1}\n",
      "{'0010': 1}\n",
      "{'0010': 1}\n",
      "{'0010': 1}\n",
      "{'0010': 1}\n",
      "{'0010': 1}\n",
      "{'0010': 1}\n",
      "{'0010': 1}\n",
      "{'0010': 1}\n",
      "{'0010': 1}\n",
      "{'0010': 1}\n",
      "{'0010': 1}\n",
      "{'0010': 1}\n",
      "{'0010': 1}\n",
      "{'0010': 1}\n",
      "{'0010': 1}\n",
      "{'0010': 1}\n",
      "{'0010': 1}\n",
      "{'0010': 1}\n",
      "{'0010': 1}\n",
      "{'0010': 1}\n",
      "{'0010': 1}\n",
      "{'0010': 1}\n",
      "{'0010': 1}\n",
      "{'0010': 1}\n",
      "{'0010': 1}\n",
      "{'0010': 1}\n",
      "{'0010': 1}\n",
      "{'0010': 1}\n",
      "{'0010': 1}\n",
      "{'0010': 1}\n",
      "{'0010': 1}\n",
      "{'0010': 1}\n",
      "{'0010': 1}\n",
      "{'0010': 1}\n",
      "{'0010': 1}\n",
      "{'0010': 1}\n",
      "{'0010': 1}\n",
      "{'0010': 1}\n",
      "{'0010': 1}\n",
      "{'0010': 1}\n",
      "{'0010': 1}\n",
      "{'0010': 1}\n",
      "{'0010': 1}\n",
      "{'0010': 1}\n",
      "{'0010': 1}\n",
      "{'0010': 1}\n",
      "{'0010': 1}\n",
      "{'0010': 1}\n",
      "{'0010': 1}\n",
      "{'0010': 1}\n",
      "{'0010': 1}\n",
      "{'0010': 1}\n",
      "{'0010': 1}\n",
      "{'0010': 1}\n",
      "{'0010': 1}\n",
      "{'0010': 1}\n",
      "{'0010': 1}\n",
      "{'0010': 1}\n",
      "{'0010': 1}\n",
      "{'0010': 1}\n",
      "{'0010': 1}\n",
      "{'0010': 1}\n",
      "{'0010': 1}\n",
      "{'0010': 1}\n",
      "{'0010': 1}\n",
      "{'0010': 1}\n",
      "{'0010': 1}\n",
      "{'0010': 1}\n",
      "{'0010': 1}\n",
      "{'0010': 1}\n",
      "{'0010': 1}\n",
      "{'0010': 1}\n",
      "{'0010': 1}\n",
      "{'0010': 1}\n",
      "{'0010': 1}\n",
      "{'0010': 1}\n",
      "{'0010': 1}\n",
      "{'0010': 1}\n",
      "{'0010': 1}\n",
      "{'0010': 1}\n",
      "{'0010': 1}\n",
      "{'0010': 1}\n",
      "{'0010': 1}\n",
      "{'0010': 1}\n",
      "{'0010': 1}\n",
      "{'0010': 1}\n",
      "{'0010': 1}\n",
      "{'0010': 1}\n",
      "{'0010': 1}\n",
      "{'0010': 1}\n",
      "{'0010': 1}\n",
      "{'0010': 1}\n",
      "{'0010': 1}\n",
      "{'0010': 1}\n",
      "{'0010': 1}\n",
      "{'0010': 1}\n",
      "{'0010': 1}\n",
      "{'0010': 1}\n",
      "{'0010': 1}\n",
      "{'0010': 1}\n",
      "{'0010': 1}\n",
      "{'0010': 1}\n",
      "{'0010': 1}\n",
      "{'0010': 1}\n",
      "{'0010': 1}\n",
      "{'0010': 1}\n",
      "{'0010': 1}\n",
      "{'0010': 1}\n",
      "{'0010': 1}\n",
      "{'0010': 1}\n",
      "{'0010': 1}\n",
      "{'0010': 1}\n",
      "{'0010': 1}\n",
      "{'0010': 1}\n",
      "{'0010': 1}\n",
      "{'0010': 1}\n",
      "{'0010': 1}\n",
      "{'0010': 1}\n",
      "{'0010': 1}\n",
      "{'0010': 1}\n",
      "{'0010': 1}\n",
      "{'0010': 1}\n",
      "{'0010': 1}\n",
      "{'0010': 1}\n",
      "{'0010': 1}\n",
      "{'0010': 1}\n",
      "{'0010': 1}\n",
      "{'0010': 1}\n",
      "{'0010': 1}\n",
      "{'0010': 1}\n",
      "{'0010': 1}\n",
      "{'0010': 1}\n",
      "{'0010': 1}\n",
      "{'0010': 1}\n",
      "{'0010': 1}\n",
      "{'0010': 1}\n",
      "{'0010': 1}\n",
      "{'0010': 1}\n",
      "{'0010': 1}\n",
      "{'0010': 1}\n",
      "{'0010': 1}\n",
      "{'0010': 1}\n",
      "{'0010': 1}\n",
      "{'0010': 1}\n",
      "{'0010': 1}\n",
      "{'0010': 1}\n",
      "{'0010': 1}\n",
      "{'0010': 1}\n",
      "{'0010': 1}\n",
      "{'0010': 1}\n",
      "{'0010': 1}\n",
      "{'0010': 1}\n",
      "{'0010': 1}\n",
      "{'0010': 1}\n",
      "{'0010': 1}\n",
      "{'0010': 1}\n",
      "{'0010': 1}\n",
      "{'0010': 1}\n",
      "{'0010': 1}\n",
      "{'0010': 1}\n",
      "{'0010': 1}\n",
      "{'0010': 1}\n",
      "{'0010': 1}\n",
      "{'0010': 1}\n",
      "{'0010': 1}\n",
      "{'0010': 1}\n",
      "{'0010': 1}\n",
      "{'0010': 1}\n",
      "{'0010': 1}\n",
      "{'0010': 1}\n",
      "{'0010': 1}\n",
      "{'0010': 1}\n",
      "{'0010': 1}\n",
      "{'0010': 1}\n",
      "{'0010': 1}\n",
      "{'0010': 1}\n",
      "{'0010': 1}\n",
      "{'0010': 1}\n",
      "{'0010': 1}\n",
      "{'0010': 1}\n",
      "{'0010': 1}\n",
      "{'0010': 1}\n",
      "{'0010': 1}\n",
      "{'0010': 1}\n",
      "{'0010': 1}\n",
      "{'0010': 1}\n",
      "{'0010': 1}\n",
      "{'0010': 1}\n",
      "{'0010': 1}\n",
      "{'0010': 1}\n",
      "{'0010': 1}\n",
      "{'0010': 1}\n",
      "{'0010': 1}\n",
      "{'0010': 1}\n",
      "{'0010': 1}\n",
      "{'0010': 1}\n",
      "{'0010': 1}\n",
      "{'0010': 1}\n",
      "{'0010': 1}\n",
      "{'0010': 1}\n",
      "{'0010': 1}\n",
      "{'0010': 1}\n",
      "{'0010': 1}\n",
      "{'0010': 1}\n",
      "{'0010': 1}\n",
      "{'0010': 1}\n",
      "{'0010': 1}\n",
      "{'0010': 1}\n",
      "{'0010': 1}\n",
      "{'0010': 1}\n",
      "{'0010': 1}\n",
      "{'0010': 1}\n",
      "{'0010': 1}\n",
      "{'0010': 1}\n",
      "{'0010': 1}\n",
      "{'0010': 1}\n",
      "{'0010': 1}\n",
      "{'0010': 1}\n",
      "{'0010': 1}\n",
      "{'0010': 1}\n",
      "{'0010': 1}\n",
      "{'0010': 1}\n",
      "{'0010': 1}\n",
      "{'0010': 1}\n",
      "{'0010': 1}\n",
      "{'0010': 1}\n",
      "{'0010': 1}\n",
      "{'0010': 1}\n",
      "{'0010': 1}\n",
      "{'0010': 1}\n",
      "{'0010': 1}\n",
      "{'0010': 1}\n",
      "{'0010': 1}\n",
      "{'0010': 1}\n",
      "{'0010': 1}\n",
      "{'0010': 1}\n",
      "{'0010': 1}\n",
      "{'0010': 1}\n",
      "{'0010': 1}\n",
      "{'0010': 1}\n",
      "{'0010': 1}\n",
      "{'0010': 1}\n",
      "{'0010': 1}\n",
      "{'0010': 1}\n",
      "{'0010': 1}\n",
      "{'0010': 1}\n",
      "{'0010': 1}\n",
      "{'0010': 1}\n",
      "{'0010': 1}\n",
      "{'0010': 1}\n",
      "{'0010': 1}\n",
      "{'0010': 1}\n",
      "{'0010': 1}\n",
      "{'0010': 1}\n",
      "{'0010': 1}\n",
      "{'0010': 1}\n",
      "{'0010': 1}\n",
      "{'0010': 1}\n",
      "{'0010': 1}\n",
      "{'0010': 1}\n",
      "{'0010': 1}\n",
      "{'0010': 1}\n",
      "{'0010': 1}\n",
      "{'0010': 1}\n",
      "{'0010': 1}\n",
      "{'0010': 1}\n",
      "{'0010': 1}\n",
      "{'0010': 1}\n",
      "{'0010': 1}\n",
      "{'0010': 1}\n",
      "{'0010': 1}\n",
      "{'0010': 1}\n",
      "{'0010': 1}\n",
      "{'0010': 1}\n",
      "{'0010': 1}\n",
      "{'0010': 1}\n",
      "{'0010': 1}\n",
      "{'0010': 1}\n",
      "{'0010': 1}\n",
      "{'0010': 1}\n",
      "{'0010': 1}\n",
      "{'0010': 1}\n",
      "{'0010': 1}\n",
      "{'0010': 1}\n",
      "{'0010': 1}\n",
      "{'0010': 1}\n",
      "{'0010': 1}\n",
      "{'0010': 1}\n",
      "{'0010': 1}\n",
      "{'0010': 1}\n",
      "{'0010': 1}\n",
      "{'0010': 1}\n",
      "{'0010': 1}\n",
      "{'0010': 1}\n",
      "{'0010': 1}\n",
      "{'0010': 1}\n",
      "{'0010': 1}\n",
      "{'0010': 1}\n",
      "{'0010': 1}\n",
      "{'0010': 1}\n",
      "{'0010': 1}\n",
      "{'0010': 1}\n",
      "{'0010': 1}\n",
      "{'0010': 1}\n",
      "{'0010': 1}\n",
      "{'0010': 1}\n",
      "{'0010': 1}\n",
      "{'0010': 1}\n",
      "{'0010': 1}\n",
      "{'0010': 1}\n",
      "{'0010': 1}\n",
      "{'0010': 1}\n",
      "{'0010': 1}\n",
      "{'0010': 1}\n",
      "{'0010': 1}\n",
      "{'0010': 1}\n",
      "{'0010': 1}\n",
      "{'0010': 1}\n",
      "{'0010': 1}\n",
      "{'0010': 1}\n",
      "{'0010': 1}\n",
      "{'0010': 1}\n",
      "{'0010': 1}\n",
      "{'0010': 1}\n",
      "{'0010': 1}\n",
      "{'0010': 1}\n",
      "{'0010': 1}\n",
      "{'0010': 1}\n",
      "{'0010': 1}\n",
      "{'0010': 1}\n",
      "{'0010': 1}\n",
      "{'0010': 1}\n",
      "{'0010': 1}\n",
      "{'0010': 1}\n",
      "{'0010': 1}\n",
      "{'0010': 1}\n",
      "{'0010': 1}\n",
      "{'0010': 1}\n",
      "{'0010': 1}\n",
      "{'0010': 1}\n",
      "{'0010': 1}\n",
      "{'0010': 1}\n",
      "{'0010': 1}\n",
      "{'0010': 1}\n"
     ]
    },
    {
     "name": "stderr",
     "output_type": "stream",
     "text": [
      "c:\\Users\\skywalker\\miniconda3\\Lib\\site-packages\\qiskit\\result\\result.py:379: UserWarning: Result object contained multiple results matching name \"singlet\", only first match will be returned. Use an integer index to retrieve results for all entries.\n",
      "  warnings.warn(\n"
     ]
    }
   ],
   "source": [
    "aliceResults = []\n",
    "bobResults = []\n",
    "for i in range(numberOfSinglets):\n",
    "    counts = result.get_counts(circuits[i])\n",
    "    print(counts)"
   ]
  }
 ],
 "metadata": {
  "kernelspec": {
   "display_name": "base",
   "language": "python",
   "name": "python3"
  },
  "language_info": {
   "codemirror_mode": {
    "name": "ipython",
    "version": 3
   },
   "file_extension": ".py",
   "mimetype": "text/x-python",
   "name": "python",
   "nbconvert_exporter": "python",
   "pygments_lexer": "ipython3",
   "version": "3.12.3"
  }
 },
 "nbformat": 4,
 "nbformat_minor": 2
}
