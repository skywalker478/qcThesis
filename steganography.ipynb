{
 "cells": [
  {
   "cell_type": "markdown",
   "metadata": {},
   "source": [
    "# Steganography"
   ]
  },
  {
   "cell_type": "markdown",
   "metadata": {},
   "source": [
    "## Module Import"
   ]
  },
  {
   "cell_type": "code",
   "execution_count": 9,
   "metadata": {},
   "outputs": [],
   "source": [
    "import wave\n",
    "import numpy as np\n",
    "import os\n",
    "from pydub import AudioSegment"
   ]
  },
  {
   "cell_type": "markdown",
   "metadata": {},
   "source": [
    "## Audio Conversion Function"
   ]
  },
  {
   "cell_type": "markdown",
   "metadata": {},
   "source": [
    "Now we define a function that check the imported cover audio if it has '.wav' extension. If not, we convert it using PyDub."
   ]
  },
  {
   "cell_type": "code",
   "execution_count": 12,
   "metadata": {},
   "outputs": [],
   "source": [
    "def convertToWav(inputFile):\n",
    "    if not os.path.exists(inputFile):\n",
    "        print(f\"Error: The input file '{inputFile}' does not exist.\")\n",
    "        return None\n",
    "    _, ext = os.path.splitext(inputFile)\n",
    "    if ext.lower() == '.wav':\n",
    "        print(f\"The file '{inputFile}' is already in WAV format.\")\n",
    "        return inputFile\n",
    "    outputFile = os.path.splitext(inputFile)[0] + '.wav'\n",
    "    try:\n",
    "        audio = AudioSegment.from_file(inputFile)\n",
    "        audio.export(outputFile, format=\"wav\")\n",
    "        print(f\"Audio successfully converted to WAV format: {outputFile}\")\n",
    "        return outputFile\n",
    "    except Exception as e:\n",
    "        print(f\"An error occurred during conversion: {e}\")\n",
    "        return None"
   ]
  },
  {
   "cell_type": "markdown",
   "metadata": {},
   "source": [
    "We do the same function on the message audio."
   ]
  },
  {
   "cell_type": "markdown",
   "metadata": {},
   "source": [
    "## Capacity Checking Function"
   ]
  },
  {
   "cell_type": "markdown",
   "metadata": {},
   "source": [
    "As cover audio can hold only so much of message audio, it is crucial to check for overflow prior performing steganography."
   ]
  },
  {
   "cell_type": "code",
   "execution_count": 14,
   "metadata": {},
   "outputs": [],
   "source": [
    "def calculate_audio_capacity(file_path):\n",
    "    \"\"\"Calculate the bit capacity of the cover audio.\"\"\"\n",
    "    with wave.open(file_path, 'rb') as wf:\n",
    "        # Extract properties\n",
    "        n_channels = wf.getnchannels()          # Number of channels\n",
    "        sample_width = wf.getsampwidth()       # Bytes per sample\n",
    "        frame_rate = wf.getframerate()         # Sampling rate (samples per second)\n",
    "        n_frames = wf.getnframes()             # Total frames\n",
    "        bit_depth = sample_width * 8           # Bits per sample\n",
    "        duration = n_frames / frame_rate       # Duration in seconds\n",
    "\n",
    "        # Calculate total number of samples\n",
    "        total_samples = n_frames * n_channels  # Each channel counts as a sample\n",
    "\n",
    "        # Capacity is 1 bit per sample for LSB steganography\n",
    "        capacity_bits = total_samples          # Total bits available for LSB\n",
    "\n",
    "        print(f\"Cover Audio Properties:\")\n",
    "        print(f\"  Duration: {duration:.2f} seconds\")\n",
    "        print(f\"  Channels: {n_channels}\")\n",
    "        print(f\"  Bit Depth: {bit_depth} bits\")\n",
    "        print(f\"  Frame Rate: {frame_rate} Hz\")\n",
    "        print(f\"  Total Samples: {total_samples}\")\n",
    "        print(f\"  Capacity for LSB Steganography: {capacity_bits} bits\")\n",
    "\n",
    "        return capacity_bits, duration\n",
    "\n",
    "\n",
    "def calculate_message_size(file_path):\n",
    "    \"\"\"Calculate the bit size of the message audio.\"\"\"\n",
    "    with wave.open(file_path, 'rb') as wf:\n",
    "        # Extract properties\n",
    "        n_channels = wf.getnchannels()\n",
    "        sample_width = wf.getsampwidth()\n",
    "        frame_rate = wf.getframerate()\n",
    "        n_frames = wf.getnframes()\n",
    "        bit_depth = sample_width * 8           # Bits per sample\n",
    "        duration = n_frames / frame_rate       # Duration in seconds\n",
    "\n",
    "        # Total number of samples in the message audio\n",
    "        total_samples = n_frames * n_channels\n",
    "\n",
    "        # Total bits in the message\n",
    "        total_bits = total_samples * bit_depth\n",
    "\n",
    "        print(f\"Message Audio Properties:\")\n",
    "        print(f\"  Duration: {duration:.2f} seconds\")\n",
    "        print(f\"  Channels: {n_channels}\")\n",
    "        print(f\"  Bit Depth: {bit_depth} bits\")\n",
    "        print(f\"  Frame Rate: {frame_rate} Hz\")\n",
    "        print(f\"  Total Samples: {total_samples}\")\n",
    "        print(f\"  Message Size: {total_bits} bits\")\n",
    "\n",
    "        return total_bits\n",
    "\n",
    "\n",
    "def check_capacity(cover_audio_path, message_audio_path):\n",
    "    \"\"\"Check if the message audio can fit into the cover audio.\"\"\"\n",
    "    if not os.path.exists(cover_audio_path):\n",
    "        print(f\"Error: Cover audio file '{cover_audio_path}' not found.\")\n",
    "        return False\n",
    "    if not os.path.exists(message_audio_path):\n",
    "        print(f\"Error: Message audio file '{message_audio_path}' not found.\")\n",
    "        return False\n",
    "\n",
    "    # Calculate cover audio capacity\n",
    "    cover_capacity, cover_duration = calculate_audio_capacity(cover_audio_path)\n",
    "\n",
    "    # Calculate message audio size\n",
    "    message_size = calculate_message_size(message_audio_path)\n",
    "\n",
    "    # Compare capacities\n",
    "    if cover_capacity >= message_size:\n",
    "        print(f\"\\nSuccess: The message audio can fit into the cover audio!\")\n",
    "        print(f\"  Cover Audio Capacity: {cover_capacity} bits\")\n",
    "        print(f\"  Message Audio Size: {message_size} bits\")\n",
    "        return True\n",
    "    else:\n",
    "        print(f\"\\nError: The message audio is too large to fit into the cover audio.\")\n",
    "        print(f\"  Cover Audio Capacity: {cover_capacity} bits\")\n",
    "        print(f\"  Message Audio Size: {message_size} bits\")\n",
    "        print(f\"  You would need a larger cover audio or a smaller message audio.\")\n",
    "        return False"
   ]
  },
  {
   "cell_type": "code",
   "execution_count": null,
   "metadata": {},
   "outputs": [],
   "source": []
  }
 ],
 "metadata": {
  "kernelspec": {
   "display_name": "base",
   "language": "python",
   "name": "python3"
  },
  "language_info": {
   "codemirror_mode": {
    "name": "ipython",
    "version": 3
   },
   "file_extension": ".py",
   "mimetype": "text/x-python",
   "name": "python",
   "nbconvert_exporter": "python",
   "pygments_lexer": "ipython3",
   "version": "3.12.3"
  }
 },
 "nbformat": 4,
 "nbformat_minor": 2
}
