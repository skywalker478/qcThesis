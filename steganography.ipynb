{
 "cells": [
  {
   "cell_type": "code",
   "execution_count": 4,
   "metadata": {},
   "outputs": [],
   "source": [
    "import wave\n",
    "import numpy as np\n",
    "import os\n",
    "from pydub import AudioSegment"
   ]
  },
  {
   "cell_type": "markdown",
   "metadata": {},
   "source": [
    "Now we define a function that check the imported cover audio if it has '.wav' extension. If not, we convert it using PyDub."
   ]
  },
  {
   "cell_type": "code",
   "execution_count": null,
   "metadata": {},
   "outputs": [],
   "source": [
    "def convertToWav(inputFile):\n",
    "    if not os.path.exists(inputFile):\n",
    "        print(f\"Error: The input file '{inputFile}' does not exist.\")\n",
    "        return None\n",
    "    _, ext = os.path.splitext(inputFile)\n",
    "    if ext.lower() == '.wav':\n",
    "        print(f\"The file '{inputFile}' is already in WAV format.\")\n",
    "        return inputFile\n",
    "    outputFile = os.path.splitext(inputFile)[0] + '.wav'\n",
    "    try:\n",
    "        audio = AudioSegment.from_file(inputFile)\n",
    "        audio.export(output_file, format=\"wav\")\n",
    "        print(f\"Audio successfully converted to WAV format: {outputFile}\")\n",
    "        return outputFile\n",
    "    except Exception as e:\n",
    "        print(f\"An error occurred during conversion: {e}\")\n",
    "        return None"
   ]
  },
  {
   "cell_type": "markdown",
   "metadata": {},
   "source": [
    "We do the same function on the message audio."
   ]
  }
 ],
 "metadata": {
  "kernelspec": {
   "display_name": "base",
   "language": "python",
   "name": "python3"
  },
  "language_info": {
   "codemirror_mode": {
    "name": "ipython",
    "version": 3
   },
   "file_extension": ".py",
   "mimetype": "text/x-python",
   "name": "python",
   "nbconvert_exporter": "python",
   "pygments_lexer": "ipython3",
   "version": "3.12.3"
  }
 },
 "nbformat": 4,
 "nbformat_minor": 2
}
