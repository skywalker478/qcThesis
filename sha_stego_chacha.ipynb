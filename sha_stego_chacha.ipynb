{
 "cells": [
  {
   "cell_type": "markdown",
   "metadata": {},
   "source": [
    "# Library Import\n"
   ]
  },
  {
   "cell_type": "code",
   "execution_count": 9,
   "metadata": {},
   "outputs": [],
   "source": [
    "import wave\n",
    "import numpy as np\n",
    "import matplotlib.pyplot as plt\n",
    "from Crypto.Hash import SHA3_256\n",
    "from Crypto.Cipher import ChaCha20_Poly1305\n",
    "from Crypto.Random import get_random_bytes"
   ]
  },
  {
   "cell_type": "markdown",
   "metadata": {},
   "source": [
    "# SHA-3 Digest\n"
   ]
  },
  {
   "cell_type": "code",
   "execution_count": 10,
   "metadata": {},
   "outputs": [
    {
     "name": "stdout",
     "output_type": "stream",
     "text": [
      "Alice's Key:  b'l\\x04v\\xea\\x81y\\xdb\\x86F\\xe0\\x04\\xba\\xe9\\xd2\\x97\\xbdDS\\xb6q\\xf5\\\\iY\\xe0\\x1f\\xa4\\x84\\x08\\x90}Pu\\x88\\x19V\\x90W\\xffIC\\x8e\\xe2\\x002{\\xd3\\n\\x05N\\x96\\\\\\xc9y)\\xd4u\\xbc\\xb4\\xe8(f\\x00\\xa9\\xa5$^\\x07\\xee\\xab\\x9a[\\x02D6\\x9eZ\"q\\xef\\x1f\\xc1\\x10\\x81\"\\xe1\\x7f\\x03\\x89e\\x17\\xef\\xbdU\\x8d\\x92\\xffs\\xb8n\\\\\\t\\xa4\\xa2\\x934-\\xcfd\\x05\\xe1n\\xaeP.z\\x138\\x89\\xa3+\\xc1\\xfas\\xc7\\x15O\\x8d\\xe1\\xc1\\xb7\\x99\\xa6\\x96\\xa0w]\\xff\\xefxwU\\xc3\\xb7^\\xbb\\xa1\\xf0\\xa4\\xe7n\\xc9\\t.\\xbe\\x05\\xd4\\xfc\\xe0\\xcb\\xde\\x1dG\\x92f\\x13\\x03r\\x04\\x93\\xac\\xb4di\\x9e5\\x89i\\x12F\\xde\\xfa7dd\\xa0\\xf8\\xf807bd\\x15\\xc2*D\\xd2W\\x83X\\xecP\\x8f\\xda\\xc3\\xc4}l\\xe5\\x95\\r\\xaap,ic\\n\\xee\\x00\\x9d6\\xa3\\x02\\xd1\\xe2\\xc7\\x00\\xe7\\x0f\\x01Z\\x90\\x97X\\xc8\\xbf\\xec\\xce6\\xd3k0\\xe8\\xe1\\xf7\\xce\\xed\\xcc\\x9d`$\\x06\\x9b\\xf1\\x95\\xa4\\x14\\x89\\x1e\\xaa\\x14#Ms\\x1c\\xe7\\xb2L\\xd0\\xd6\\x17O\\xc9\\xf3W\\xa8\\x0b\\xcb\\xb2\\x8cJ\\xc5\\xfe^\\xfd\\x03\\xed\\xa1\\x85vJ\\xf1,\\x0c\\xf0\\xfcFJ5\\xb3\\x97\\xb6\\xc8JK\\xcb\\xc2)F\\xe9\\x1cz\\xadp\\x88\\xb8\\xe8,8\\x99\\xfb-\\xf5\\xc5m\\x87*\\xc4\\x9d\\x05D\\x9a\\xd1\\x81M\"\\xfd(s~\\x8e\\xe8.\\xb46Z\\xf8\\xearkB\\xcdh\\x91\\xa7V5\\xe7\\xf0-OOu\\xa8m\\x0cb\\xa6\\x94\\xa4\\xb7\\x87b5\\xe7k\\xb3\\x85\\xc8\\\\&+>hF\\xde2wc4\\xa0\\xbe^\\xa2v\\xd9\\x99\\xce\\xd3\\xdf\\x00\\xe7\\x85\\xf5\\xfe\\x0fFE\\\\\\xdd\\x00\\x9b\\xc0~N\\xa7\\xa6ha\\xf0~\\xbe\\xb9\\xea\\xbd\\x9c5\\x97\\xf9\\x01\\x03\\x02\\xac\\x8b\\n-\\xd3\\x8c\\xb6\\xc2\\xe8\\xf9\\x1b\\xc7P\\xea/R\\xb5uh\\x18V\\xf9\\x8fcF\\x9c\\xce^\\x95\\xe004(\\'\\x0b\\'\\x91N\\x96a\\xda\\x88twV\\x14I.\\xc1\\x99D\\x92\\x80\\xc0C\\xfc\\xb3\\xa0\\x99\\xaaT\\xa4V\\xe5|\"\\xcd\\xb9'\n",
      "Hash of Alice's key:  b'\\xa8\\xc1\\xfcErV1\\x97\\xfb\\xc9\\xe7\\x82\\xc4K\\x0f\\xc5\\x92\\x18\\xc7\\xc4!\\xea\\xed#7\\xd7\\xf4\\xc1\\xba\\xd5\\x00F'\n"
     ]
    }
   ],
   "source": [
    "aliceKey = get_random_bytes(500)\n",
    "print(\"Alice's Key: \", aliceKey)\n",
    "hashObject = SHA3_256.new()\n",
    "hashObject.update(aliceKey)\n",
    "key = hashObject.digest()\n",
    "print(\"Hash of Alice's key: \", key)"
   ]
  },
  {
   "cell_type": "markdown",
   "metadata": {},
   "source": [
    "# Steganography\n"
   ]
  },
  {
   "cell_type": "markdown",
   "metadata": {},
   "source": [
    "## Function Definition\n"
   ]
  },
  {
   "cell_type": "markdown",
   "metadata": {},
   "source": [
    "### Embedding\n"
   ]
  },
  {
   "cell_type": "markdown",
   "metadata": {},
   "source": [
    "#### Audio Clipping Function\n"
   ]
  },
  {
   "cell_type": "code",
   "execution_count": 11,
   "metadata": {},
   "outputs": [],
   "source": [
    "def clip_audio(audio_data, min_value=-32768, max_value=32767):\n",
    "    return np.clip(audio_data, min_value, max_value)"
   ]
  },
  {
   "cell_type": "markdown",
   "metadata": {},
   "source": [
    "#### Audio Embedding Function\n"
   ]
  },
  {
   "cell_type": "code",
   "execution_count": 12,
   "metadata": {},
   "outputs": [],
   "source": [
    "def embed_audio(carrier_path, secret_path, output_path, num_bits=8):\n",
    "    # Open the carrier and secret audio files\n",
    "    carrier = wave.open(carrier_path, 'rb')\n",
    "    secret = wave.open(secret_path, 'rb')\n",
    "    # Ensure compatibility between carrier and secret audio\n",
    "    if carrier.getnchannels() != secret.getnchannels() or carrier.getsampwidth() != secret.getsampwidth():\n",
    "        raise ValueError(\n",
    "            \"Carrier and secret audio must have the same number of channels and sample width.\")\n",
    "    # Read audio data\n",
    "    carrier_frames = np.frombuffer(carrier.readframes(\n",
    "        carrier.getnframes()), dtype=np.int16)\n",
    "    secret_frames = np.frombuffer(secret.readframes(\n",
    "        secret.getnframes()), dtype=np.int16)\n",
    "    # Ensure carrier has enough capacity to store secret\n",
    "    max_secret_length = len(carrier_frames) // (16 // num_bits)\n",
    "    if len(secret_frames) > max_secret_length:\n",
    "        raise ValueError(f\"Carrier audio cannot hold the secret audio. Max capacity: {\n",
    "                         max_secret_length}, got: {len(secret_frames)}.\")\n",
    "    # Resize the secret frames to match embedding capacity\n",
    "    padded_secret_frames = np.zeros(max_secret_length, dtype=np.int16)\n",
    "    padded_secret_frames[:len(secret_frames)] = secret_frames\n",
    "    # Embed the secret audio into the carrier\n",
    "    embedded_frames = np.copy(carrier_frames)\n",
    "    mask = (1 << num_bits) - 1  # Mask to isolate the LSBs\n",
    "    embedded_frames &= ~mask  # Clear the least significant bits\n",
    "    embedded_frames[:len(padded_secret_frames)] += (padded_secret_frames >>\n",
    "                                                    # Embed secret bits\n",
    "                                                    (16 - num_bits)) & mask\n",
    "    # Clip audio values to valid range\n",
    "    embedded_frames = clip_audio(embedded_frames)\n",
    "    # Write the embedded audio to a new file\n",
    "    embedded_audio = wave.open(output_path, 'wb')\n",
    "    embedded_audio.setparams(carrier.getparams())\n",
    "    embedded_audio.writeframes(embedded_frames.astype(np.int16).tobytes())\n",
    "    # Close files\n",
    "    carrier.close()\n",
    "    secret.close()\n",
    "    embedded_audio.close()\n",
    "    print(f\"Embedding complete. Saved to {output_path}\")"
   ]
  },
  {
   "cell_type": "markdown",
   "metadata": {},
   "source": [
    "### Extraction\n"
   ]
  },
  {
   "cell_type": "code",
   "execution_count": 13,
   "metadata": {},
   "outputs": [],
   "source": [
    "def extract_audio(embedded_path, secret_output_path, secret_length, num_bits=8):\n",
    "    # Open the embedded audio file\n",
    "    embedded = wave.open(embedded_path, 'rb')\n",
    "    # Read audio data\n",
    "    embedded_frames = np.frombuffer(embedded.readframes(\n",
    "        embedded.getnframes()), dtype=np.int16)\n",
    "    # Extract the secret audio\n",
    "    mask = (1 << num_bits) - 1  # Mask to isolate the embedded bits\n",
    "    extracted_bits = (embedded_frames & mask) << (16 - num_bits)\n",
    "    secret_frames = extracted_bits[:secret_length*2]\n",
    "    # Apply a low-pass filter to reduce noise\n",
    "    secret_frames = np.convolve(secret_frames, np.ones(\n",
    "        5)/5, mode='same')  # Simple smoothing (moving average)\n",
    "    # Clip audio values to valid range\n",
    "    secret_frames = clip_audio(secret_frames)\n",
    "    # Write the secret audio to a new file\n",
    "    secret_audio = wave.open(secret_output_path, 'wb')\n",
    "    secret_audio.setparams(embedded.getparams())\n",
    "    secret_audio.setnframes(secret_length)\n",
    "    secret_audio.writeframes(secret_frames.astype(np.int16).tobytes())\n",
    "    # Close files\n",
    "    embedded.close()\n",
    "    secret_audio.close()\n",
    "    print(f\"Extraction complete. Secret audio saved to {secret_output_path}\")"
   ]
  },
  {
   "cell_type": "markdown",
   "metadata": {},
   "source": [
    "## Implementation\n"
   ]
  },
  {
   "cell_type": "markdown",
   "metadata": {},
   "source": [
    "### Input\n"
   ]
  },
  {
   "cell_type": "code",
   "execution_count": 14,
   "metadata": {},
   "outputs": [],
   "source": [
    "# Carrier audio\n",
    "carrier_audio = \"cover.wav\"\n",
    "secret_audio = \"secret.wav\"  # Secret audio\n",
    "embedded_audio = \"embedded.wav\"  # Output for the embedded audio"
   ]
  },
  {
   "cell_type": "markdown",
   "metadata": {},
   "source": [
    "### Embed\n"
   ]
  },
  {
   "cell_type": "code",
   "execution_count": 15,
   "metadata": {},
   "outputs": [
    {
     "name": "stdout",
     "output_type": "stream",
     "text": [
      "Embedding complete. Saved to embedded.wav\n"
     ]
    }
   ],
   "source": [
    "embed_audio(carrier_audio, secret_audio, embedded_audio, num_bits=8)"
   ]
  },
  {
   "cell_type": "markdown",
   "metadata": {},
   "source": [
    "# Encryption, Decryption, MAC Generation and Authentication"
   ]
  },
  {
   "cell_type": "markdown",
   "metadata": {},
   "source": [
    "## Function Definitions"
   ]
  },
  {
   "cell_type": "markdown",
   "metadata": {},
   "source": [
    "Encryption using the SHA3-256 digest of the final Ekert key."
   ]
  },
  {
   "cell_type": "code",
   "execution_count": 16,
   "metadata": {},
   "outputs": [],
   "source": [
    "def encryptAudio(key, inputFile, outputFile, outputAudio):\n",
    "    with open(inputFile, 'rb') as inputFile:\n",
    "        audioData = inputFile.read()\n",
    "    header = b\"Stego Audio\"\n",
    "    cipher = ChaCha20_Poly1305.new(key=key)\n",
    "    cipher.update(header)\n",
    "    nonce = cipher.nonce\n",
    "    print(\"Nonce: \", nonce.hex())\n",
    "    ciphertext, tag = cipher.encrypt_and_digest(audioData)\n",
    "    print(\"Tag: \", tag.hex())\n",
    "    with open(outputAudio, 'wb') as outputAudio:\n",
    "        outputAudio.write(ciphertext)\n",
    "    with open(outputFile, 'wb') as outputFile:\n",
    "        outputFile.write(nonce+ciphertext+tag)"
   ]
  },
  {
   "cell_type": "markdown",
   "metadata": {},
   "source": [
    "Applying random bit flip to encrypted audio in order to simulate middle-man attack"
   ]
  },
  {
   "cell_type": "code",
   "execution_count": 17,
   "metadata": {},
   "outputs": [],
   "source": [
    "def addNoise(inputFile, noisyOutputFile):\n",
    "    with open(inputFile, 'rb') as inputFile:\n",
    "        noisyCiphertextBytes = bytearray(inputFile.read())\n",
    "        for x in range(100000):\n",
    "            indexToModify = np.random.randint(0, len(noisyCiphertextBytes)-1)\n",
    "            noisyCiphertextBytes[indexToModify] ^= np.random.randint(\n",
    "                0x00, 0xFF)\n",
    "        with open(noisyOutputFile, 'wb') as noisyOutputFile:\n",
    "            noisyOutputFile.write(noisyCiphertextBytes)"
   ]
  },
  {
   "cell_type": "markdown",
   "metadata": {},
   "source": [
    "Decryption"
   ]
  },
  {
   "cell_type": "code",
   "execution_count": 18,
   "metadata": {},
   "outputs": [],
   "source": [
    "def decryptAudio(key, inputFile, outputFile):\n",
    "    with open(inputFile, 'rb') as inputFile:\n",
    "        data = inputFile.read()\n",
    "        nonce = data[:12]\n",
    "        ciphertext = data[12:-16]\n",
    "        tag = data[-16:]\n",
    "    header = b\"Stego Audio\"\n",
    "    cipher = ChaCha20_Poly1305.new(key=key, nonce=nonce)\n",
    "    cipher.update(header)\n",
    "    try:\n",
    "        decryptedAudio = cipher.decrypt_and_verify(ciphertext, tag)\n",
    "        with open(outputFile, 'wb') as outputFile:\n",
    "            outputFile.write(decryptedAudio)\n",
    "            print(\"Nonce: \", nonce.hex())\n",
    "            print(\"Tag: \", tag.hex())\n",
    "            print(\"Decryption and verification successful!\")\n",
    "    except ValueError:\n",
    "        print(\"Verification failed!\")"
   ]
  },
  {
   "cell_type": "markdown",
   "metadata": {},
   "source": [
    "## Implementation"
   ]
  },
  {
   "cell_type": "code",
   "execution_count": 19,
   "metadata": {},
   "outputs": [],
   "source": [
    "inputAudio = \"embedded.wav\"\n",
    "outputAudio = \"encrypted.wav\"\n",
    "output = \"encrypted.bin\"\n",
    "decryptedAudio = \"decrypted.wav\""
   ]
  },
  {
   "cell_type": "code",
   "execution_count": 20,
   "metadata": {},
   "outputs": [
    {
     "name": "stdout",
     "output_type": "stream",
     "text": [
      "Nonce:  0032c9e244e2b41e8297db0c\n",
      "Tag:  c0d0aef87b3feb7c2b27f872de006f72\n"
     ]
    }
   ],
   "source": [
    "encryptAudio(key, \"embedded.wav\", \"encrypted.bin\", \"encrypted.wav\")"
   ]
  },
  {
   "cell_type": "code",
   "execution_count": 21,
   "metadata": {},
   "outputs": [],
   "source": [
    "addNoise(\"encrypted.bin\", \"noisy.bin\")\n",
    "noisyOutput = \"noisy.bin\""
   ]
  },
  {
   "cell_type": "code",
   "execution_count": 22,
   "metadata": {},
   "outputs": [
    {
     "name": "stdout",
     "output_type": "stream",
     "text": [
      "Nonce:  0032c9e244e2b41e8297db0c\n",
      "Tag:  c0d0aef87b3feb7c2b27f872de006f72\n",
      "Decryption and verification successful!\n"
     ]
    }
   ],
   "source": [
    "decryptAudio(key, output, decryptedAudio)"
   ]
  },
  {
   "cell_type": "code",
   "execution_count": 23,
   "metadata": {},
   "outputs": [
    {
     "name": "stdout",
     "output_type": "stream",
     "text": [
      "Verification failed!\n"
     ]
    }
   ],
   "source": [
    "decryptAudio(key, noisyOutput, \"outfile.bin\")"
   ]
  },
  {
   "cell_type": "markdown",
   "metadata": {},
   "source": [
    "# Extraction"
   ]
  },
  {
   "cell_type": "code",
   "execution_count": 24,
   "metadata": {},
   "outputs": [
    {
     "name": "stdout",
     "output_type": "stream",
     "text": [
      "Extraction complete. Secret audio saved to retrieved_audio1.wav\n"
     ]
    }
   ],
   "source": [
    "extracted_audio = \"retrieved_audio1.wav\"\n",
    "# extract_audio('embedded.wav', 'output.wav', 8)\n",
    "\n",
    "secret_audio_length = wave.open(\n",
    "    secret_audio, 'rb').getnframes()  # Length of the secret audio\n",
    "extract_audio(embedded_audio, extracted_audio, secret_audio_length)"
   ]
  },
  {
   "cell_type": "markdown",
   "metadata": {},
   "source": [
    "# Analysis"
   ]
  }
 ],
 "metadata": {
  "kernelspec": {
   "display_name": "Python 3",
   "language": "python",
   "name": "python3"
  },
  "language_info": {
   "codemirror_mode": {
    "name": "ipython",
    "version": 3
   },
   "file_extension": ".py",
   "mimetype": "text/x-python",
   "name": "python",
   "nbconvert_exporter": "python",
   "pygments_lexer": "ipython3",
   "version": "3.13.2"
  }
 },
 "nbformat": 4,
 "nbformat_minor": 2
}
