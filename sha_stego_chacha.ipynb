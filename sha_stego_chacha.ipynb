{
 "cells": [
  {
   "cell_type": "markdown",
   "metadata": {},
   "source": [
    "# Library Import\n"
   ]
  },
  {
   "cell_type": "code",
   "execution_count": 21,
   "metadata": {},
   "outputs": [],
   "source": [
    "import wave\n",
    "import numpy as np\n",
    "import matplotlib.pyplot as plt\n",
    "from Crypto.Hash import SHA3_256\n",
    "from Crypto.Cipher import ChaCha20_Poly1305\n",
    "from Crypto.Random import get_random_bytes"
   ]
  },
  {
   "cell_type": "markdown",
   "metadata": {},
   "source": [
    "# SHA-3 Digest\n"
   ]
  },
  {
   "cell_type": "code",
   "execution_count": 22,
   "metadata": {},
   "outputs": [
    {
     "name": "stdout",
     "output_type": "stream",
     "text": [
      "Alice's Key:  b'\\x19\\x05?\\xa3H\\xa3~\\x9d\\xa0\\xd9\\x8d\\xe2\\xcd\\xe6Jbd\\x85\\x1d\\x90\\x01\\xc4(\\xaf4\\xf1\\rL6\\x19PWK\\x95RV\\x81B%jkKN\\xde\\x13\\xffD<P\\xdcq\\xed\\x86\\xe6\\x12\\x9b\\xc2BT) r5r\\x0f\\xe7\\x95j\\xb2\\x1e 7\\xcd\\x00D\\xa9?\\xdb^q\\xd2\\xa5\\x07\\xe3\\xb6\\x94\\x18\\x92<\\x17\\x16\\xbe2\\xc6\\x0b!\\xfbp\\xbc\\xc5\\x04`\\xfc\\xd4\\x8f\\xb3\\xf7ry\\xd6&]lg\\xaf\\xba\\xce\\x83\\x8b\\x944K\\x19\\t\\x86\\x1bw\\xb6cx\\x80\\xed^\\xf8zm\\xab\\xbe\\x86<F\\xbdEL\\xb2uv\\xeb\\x16\\x18Z:\\x1br\\xb2\\x8bW\\x9e\\xfa\\xc9P\\x8b\\x98\\xc0S\\x9eP\\xc3\\x97\\xfc\\x15>\\x80\\xeef\\xf5\\x0f\\xc7^\\xb0?\\x18\\x8a-\\x0c\\x8a\\x9a\\xd51\\xf5$D\\xcf\\x02\"g\\x9d\\x15\\x98\\x13rOc.=\\xc0\\x91 \\x96\\xceo\\xf7j\"\\x94\\xfb8\\x15\\x94\\xc9`\\xea\\xd5\\xeaw\\x19\\xd4\\x1c\\x98\\xc8\\x08Y*\\xcb\\xfe\\xf7\\x1fg\\x12w\\x9c\\xebh\\x91\\xa5\\xdcv\\xac\"u@\\x06\\x18\\xa0H\\x94\\xb2\\xffy1\\x83\\x01\\x84\\xd9\\xe2)1\\xb9\\x1eA\\x8e\\x86\\xd2\\xa4\\xd1pa\\xa8\\xb3P\\xe8\\xc53\\x0f\\x1b-\\xedR\\xc2\\x96O\\xcc\\x96\\x91\\x07\\x8d\\xed\\x84mVc0\\xaa\\xd2K\\x80\\\\\\x14\\x82\\x8a\\xcaZ\\x16T5*qX\\xa3\\x8c(\\x00\\xf6y\\xe3\\x10x\\xf0V\\x08\\x85M#LY}U_9\\xeb\\xffl\\x1e\\xff\\x95\\x0bh\\xbe \\xf1\"p\\xea\\xf4\\x94(m\\x86\\x9e\\x9f\\xa6\\xa1\\xd5z\\xad9>\\xfb|\\xdc\\xe1\\x18\\xc9\\x15\\x86\\xfe\\xa8\\x1c\\xe0\\xc2lxlo\\xb1\\x9f\\xa2\\xd1l\\xfaE\\x9e\\xd9\\xae\\x93E\\xf7\\x9c\\x1c\\x86*\\xaeu\\xecv\\xa1\\xdb\\xdf\\xfc\\xb2\\xd4\\xcd\\x88\\xe3\\tA\\x04\\xf6)\\x07\\x9eyP\\x0f)n\\xd5d\\xf3\\x85\\xe2&j\\x83W\\xfd\"TU\\x9d=\\x90x\\xfa\\xdas\\xfaf\\x13\\x8fC\\x1d\\xecM8\\x1e\\x97\\x13[\\x8a\\x19Xf*\\xbd+\\x10r\\xb5\\\\\\xa5\\xd8\\x80D\\xa2\\xd0\\x02\\xed \\x90\\xd1e\\xedr\"\\xf5\\xa0\\xa8\\xcfId\\x18\\r\\xaf\\n\\xb5}\\xe1\\x06m'\n",
      "Hash of Alice's key:  b'\\x00\\xad\\xb2\\xd1\\x81\\x15r\\xc6mY\\x8c\\xe1\\xf5\\xb4:y\\xacy\\xcb\\xb1\\xb8\\xb6\\x0f\\xa0`\\x83:\\x8eI\\x92ua'\n"
     ]
    }
   ],
   "source": [
    "aliceKey = get_random_bytes(500)\n",
    "print(\"Alice's Key: \", aliceKey)\n",
    "hashObject = SHA3_256.new()\n",
    "hashObject.update(aliceKey)\n",
    "key = hashObject.digest()\n",
    "print(\"Hash of Alice's key: \", key)"
   ]
  },
  {
   "cell_type": "markdown",
   "metadata": {},
   "source": [
    "# Steganography\n"
   ]
  },
  {
   "cell_type": "markdown",
   "metadata": {},
   "source": [
    "## Function Definition\n"
   ]
  },
  {
   "cell_type": "markdown",
   "metadata": {},
   "source": [
    "### Embedding\n"
   ]
  },
  {
   "cell_type": "markdown",
   "metadata": {},
   "source": [
    "#### Audio Clipping Function\n"
   ]
  },
  {
   "cell_type": "code",
   "execution_count": 23,
   "metadata": {},
   "outputs": [],
   "source": [
    "def clip_audio(audio_data, min_value=-32768, max_value=32767):\n",
    "    return np.clip(audio_data, min_value, max_value)"
   ]
  },
  {
   "cell_type": "markdown",
   "metadata": {},
   "source": [
    "#### Audio Embedding Function\n"
   ]
  },
  {
   "cell_type": "code",
   "execution_count": 24,
   "metadata": {},
   "outputs": [],
   "source": [
    "def embed_audio(carrier_path, secret_path, output_path, num_bits=8):\n",
    "    # Open the carrier and secret audio files\n",
    "    carrier = wave.open(carrier_path, 'rb')\n",
    "    secret = wave.open(secret_path, 'rb')\n",
    "    # Ensure compatibility between carrier and secret audio\n",
    "    if carrier.getnchannels() != secret.getnchannels() or carrier.getsampwidth() != secret.getsampwidth():\n",
    "        raise ValueError(\n",
    "            \"Carrier and secret audio must have the same number of channels and sample width.\")\n",
    "    # Read audio data\n",
    "    carrier_frames = np.frombuffer(carrier.readframes(\n",
    "        carrier.getnframes()), dtype=np.int16)\n",
    "    secret_frames = np.frombuffer(secret.readframes(\n",
    "        secret.getnframes()), dtype=np.int16)\n",
    "    # Ensure carrier has enough capacity to store secret\n",
    "    max_secret_length = len(carrier_frames) // (16 // num_bits)\n",
    "    if len(secret_frames) > max_secret_length:\n",
    "        raise ValueError(f\"Carrier audio cannot hold the secret audio. Max capacity: {\n",
    "                         max_secret_length}, got: {len(secret_frames)}.\")\n",
    "    # Resize the secret frames to match embedding capacity\n",
    "    padded_secret_frames = np.zeros(max_secret_length, dtype=np.int16)\n",
    "    padded_secret_frames[:len(secret_frames)] = secret_frames\n",
    "    # Embed the secret audio into the carrier\n",
    "    embedded_frames = np.copy(carrier_frames)\n",
    "    mask = (1 << num_bits) - 1  # Mask to isolate the LSBs\n",
    "    embedded_frames &= ~mask  # Clear the least significant bits\n",
    "    embedded_frames[:len(padded_secret_frames)] += (padded_secret_frames >>\n",
    "                                                    # Embed secret bits\n",
    "                                                    (16 - num_bits)) & mask\n",
    "    # Clip audio values to valid range\n",
    "    embedded_frames = clip_audio(embedded_frames)\n",
    "    # Write the embedded audio to a new file\n",
    "    embedded_audio = wave.open(output_path, 'wb')\n",
    "    embedded_audio.setparams(carrier.getparams())\n",
    "    embedded_audio.writeframes(embedded_frames.astype(np.int16).tobytes())\n",
    "    # Close files\n",
    "    carrier.close()\n",
    "    secret.close()\n",
    "    embedded_audio.close()\n",
    "    print(f\"Embedding complete. Saved to {output_path}\")"
   ]
  },
  {
   "cell_type": "markdown",
   "metadata": {},
   "source": [
    "### Extraction\n"
   ]
  },
  {
   "cell_type": "code",
   "execution_count": 25,
   "metadata": {},
   "outputs": [],
   "source": [
    "def extract_audio(embedded_path, secret_output_path, secret_length, num_bits=8):\n",
    "    # Open the embedded audio file\n",
    "    embedded = wave.open(embedded_path, 'rb')\n",
    "    # Read audio data\n",
    "    embedded_frames = np.frombuffer(embedded.readframes(\n",
    "        embedded.getnframes()), dtype=np.int16)\n",
    "    # Extract the secret audio\n",
    "    mask = (1 << num_bits) - 1  # Mask to isolate the embedded bits\n",
    "    extracted_bits = (embedded_frames & mask) << (16 - num_bits)\n",
    "    secret_frames = extracted_bits[:secret_length*2]\n",
    "    # Apply a low-pass filter to reduce noise\n",
    "    secret_frames = np.convolve(secret_frames, np.ones(\n",
    "        5)/5, mode='same')  # Simple smoothing (moving average)\n",
    "    # Clip audio values to valid range\n",
    "    secret_frames = clip_audio(secret_frames)\n",
    "    # Write the secret audio to a new file\n",
    "    secret_audio = wave.open(secret_output_path, 'wb')\n",
    "    secret_audio.setparams(embedded.getparams())\n",
    "    secret_audio.setnframes(secret_length)\n",
    "    secret_audio.writeframes(secret_frames.astype(np.int16).tobytes())\n",
    "    # Close files\n",
    "    embedded.close()\n",
    "    secret_audio.close()\n",
    "    print(f\"Extraction complete. Secret audio saved to {secret_output_path}\")"
   ]
  },
  {
   "cell_type": "markdown",
   "metadata": {},
   "source": [
    "## Implementation\n"
   ]
  },
  {
   "cell_type": "markdown",
   "metadata": {},
   "source": [
    "### Input\n"
   ]
  },
  {
   "cell_type": "code",
   "execution_count": 26,
   "metadata": {},
   "outputs": [],
   "source": [
    "# Carrier audio\n",
    "carrier_audio = \"cover.wav\"\n",
    "secret_audio = \"secret.wav\"  # Secret audio\n",
    "embedded_audio = \"embedded.wav\"  # Output for the embedded audio"
   ]
  },
  {
   "cell_type": "markdown",
   "metadata": {},
   "source": [
    "### Embed\n"
   ]
  },
  {
   "cell_type": "code",
   "execution_count": 27,
   "metadata": {},
   "outputs": [
    {
     "name": "stdout",
     "output_type": "stream",
     "text": [
      "Embedding complete. Saved to embedded.wav\n"
     ]
    }
   ],
   "source": [
    "embed_audio(carrier_audio, secret_audio, embedded_audio, num_bits=8)"
   ]
  },
  {
   "cell_type": "markdown",
   "metadata": {},
   "source": [
    "# Encryption, Decryption, MAC Generation and Authentication"
   ]
  },
  {
   "cell_type": "markdown",
   "metadata": {},
   "source": [
    "## Function Definitions"
   ]
  },
  {
   "cell_type": "markdown",
   "metadata": {},
   "source": [
    "Encryption using the SHA3-256 digest of the final Ekert key."
   ]
  },
  {
   "cell_type": "code",
   "execution_count": 28,
   "metadata": {},
   "outputs": [],
   "source": [
    "def encryptAudio(key, inputFile, outputFile):\n",
    "    with open(inputFile, 'rb') as inputFile:\n",
    "        audioData = inputFile.read()\n",
    "    header = b\"Stego Audio\"\n",
    "    cipher = ChaCha20_Poly1305.new(key=key)\n",
    "    cipher.update(header)\n",
    "    nonce = cipher.nonce\n",
    "    print(\"Nonce: \", nonce.hex())\n",
    "    ciphertext, tag = cipher.encrypt_and_digest(audioData)\n",
    "    print(\"Tag: \", tag.hex())\n",
    "    with open(outputFile, 'wb') as outputFile:\n",
    "        outputFile.write(nonce+ciphertext+tag)"
   ]
  },
  {
   "cell_type": "markdown",
   "metadata": {},
   "source": [
    "Applying random bit flip to encrypted audio in order to simulate middle-man attack"
   ]
  },
  {
   "cell_type": "code",
   "execution_count": 29,
   "metadata": {},
   "outputs": [],
   "source": [
    "def addNoise(inputFile, noisyOutputFile):\n",
    "    with open(inputFile, 'rb') as inputFile:\n",
    "        noisyCiphertextBytes = bytearray(inputFile.read())\n",
    "        for x in range(1000):\n",
    "            indexToModify = np.random.randint(0, len(noisyCiphertextBytes)-1)\n",
    "            noisyCiphertextBytes[indexToModify] ^= np.random.randint(\n",
    "                0x00, 0xFF)\n",
    "        with open(noisyOutputFile, 'wb') as noisyOutputFile:\n",
    "            noisyOutputFile.write(noisyCiphertextBytes)"
   ]
  },
  {
   "cell_type": "markdown",
   "metadata": {},
   "source": [
    "Decryption"
   ]
  },
  {
   "cell_type": "code",
   "execution_count": 30,
   "metadata": {},
   "outputs": [],
   "source": [
    "def decryptAudio(key, inputFile, outputFile):\n",
    "    with open(inputFile, 'rb') as inputFile:\n",
    "        data = inputFile.read()\n",
    "        nonce = data[:12]\n",
    "        ciphertext = data[12:-16]\n",
    "        tag = data[-16:]\n",
    "    header = b\"Stego Audio\"\n",
    "    cipher = ChaCha20_Poly1305.new(key=key, nonce=nonce)\n",
    "    cipher.update(header)\n",
    "    try:\n",
    "        decryptedAudio = cipher.decrypt_and_verify(ciphertext, tag)\n",
    "        with open(outputFile, 'wb') as outputFile:\n",
    "            outputFile.write(decryptedAudio)\n",
    "            print(\"Nonce: \", nonce.hex())\n",
    "            print(\"Tag: \", tag.hex())\n",
    "            print(\"Decryption and verification successful!\")\n",
    "    except ValueError:\n",
    "        print(\"Verification failed!\")"
   ]
  },
  {
   "cell_type": "markdown",
   "metadata": {},
   "source": [
    "## Implementation"
   ]
  },
  {
   "cell_type": "code",
   "execution_count": 31,
   "metadata": {},
   "outputs": [],
   "source": [
    "inputAudio = \"embedded.wav\"\n",
    "output = \"encrypted.bin\"\n",
    "decryptedAudio = \"decrypted.wav\""
   ]
  },
  {
   "cell_type": "code",
   "execution_count": 32,
   "metadata": {},
   "outputs": [
    {
     "name": "stdout",
     "output_type": "stream",
     "text": [
      "Nonce:  d5d553953532bc2f38ea6c5f\n",
      "Tag:  056e8dd80b50fab96725b71a7cc2902f\n"
     ]
    }
   ],
   "source": [
    "encryptAudio(key, inputAudio, output)"
   ]
  },
  {
   "cell_type": "code",
   "execution_count": 33,
   "metadata": {},
   "outputs": [],
   "source": [
    "addNoise(output, \"noisy.bin\")\n",
    "noisyOutput = \"noisy.bin\""
   ]
  },
  {
   "cell_type": "code",
   "execution_count": 34,
   "metadata": {},
   "outputs": [
    {
     "name": "stdout",
     "output_type": "stream",
     "text": [
      "Nonce:  d5d553953532bc2f38ea6c5f\n",
      "Tag:  056e8dd80b50fab96725b71a7cc2902f\n",
      "Decryption and verification successful!\n"
     ]
    }
   ],
   "source": [
    "decryptAudio(key, output, decryptedAudio)"
   ]
  },
  {
   "cell_type": "code",
   "execution_count": 35,
   "metadata": {},
   "outputs": [
    {
     "name": "stdout",
     "output_type": "stream",
     "text": [
      "Verification failed!\n"
     ]
    }
   ],
   "source": [
    "decryptAudio(key, noisyOutput, \"outfile.bin\")"
   ]
  },
  {
   "cell_type": "markdown",
   "metadata": {},
   "source": [
    "# Extraction"
   ]
  },
  {
   "cell_type": "code",
   "execution_count": 36,
   "metadata": {},
   "outputs": [
    {
     "name": "stdout",
     "output_type": "stream",
     "text": [
      "Extraction complete. Secret audio saved to retrieved_audio1.wav\n"
     ]
    }
   ],
   "source": [
    "extracted_audio = \"retrieved_audio1.wav\"\n",
    "# extract_audio('embedded.wav', 'output.wav', 8)\n",
    "\n",
    "secret_audio_length = wave.open(\n",
    "    secret_audio, 'rb').getnframes()  # Length of the secret audio\n",
    "extract_audio(embedded_audio, extracted_audio, secret_audio_length)"
   ]
  }
 ],
 "metadata": {
  "kernelspec": {
   "display_name": "Python 3",
   "language": "python",
   "name": "python3"
  },
  "language_info": {
   "codemirror_mode": {
    "name": "ipython",
    "version": 3
   },
   "file_extension": ".py",
   "mimetype": "text/x-python",
   "name": "python",
   "nbconvert_exporter": "python",
   "pygments_lexer": "ipython3",
   "version": "3.13.2"
  }
 },
 "nbformat": 4,
 "nbformat_minor": 2
}
