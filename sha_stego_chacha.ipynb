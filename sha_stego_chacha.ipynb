{
 "cells": [
  {
   "cell_type": "markdown",
   "metadata": {},
   "source": [
    "# Library Import\n"
   ]
  },
  {
   "cell_type": "code",
   "execution_count": 1,
   "metadata": {},
   "outputs": [],
   "source": [
    "import wave\n",
    "import numpy as np\n",
    "import matplotlib.pyplot as plt\n",
    "from Crypto.Hash import SHA3_256\n",
    "from Crypto.Cipher import ChaCha20_Poly1305\n",
    "from Crypto.Random import get_random_bytes\n",
    "params = {\"ytick.color\": \"black\",\n",
    "          \"xtick.color\": \"black\",\n",
    "          \"axes.labelcolor\": \"black\",\n",
    "          \"axes.edgecolor\": \"black\",\n",
    "          \"text.usetex\": True,\n",
    "          \"font.family\": \"serif\",\n",
    "          \"font.serif\": [\"Computer Modern Serif\"]}\n",
    "plt.rcParams.update(params)"
   ]
  },
  {
   "cell_type": "markdown",
   "metadata": {},
   "source": [
    "# E91\n"
   ]
  },
  {
   "cell_type": "code",
   "execution_count": null,
   "metadata": {},
   "outputs": [],
   "source": []
  },
  {
   "cell_type": "markdown",
   "metadata": {},
   "source": [
    "# SHA-3 Digest\n"
   ]
  },
  {
   "cell_type": "code",
   "execution_count": 4,
   "metadata": {},
   "outputs": [
    {
     "name": "stdout",
     "output_type": "stream",
     "text": [
      "Alice's Key:  b'\\xef\\xbf\\xbd\\xef\\xbf\\xbd\\xef\\xbf\\xbd\\xef\\xbf\\xbd\\\\I>\\xef\\xbf\\xbdP\\xef\\xbf\\xbd\\xc4\\x98j\\xef\\xbf\\xbd\\r\\n'\n",
      "Hash of Alice's key:  b'\\xadu\\x11\\xfb\\x87[y0\\x86\\x96\\x91F\\xa2\\xf0Z\\xf0\\xa5=\\xf3x\\x1aT\\x05\\xd4\\x8b#\\xf8\\xfd\\xb0\\xbf\\xce\\xee'\n"
     ]
    }
   ],
   "source": [
    "with open('aliceKey.bin', 'rb') as f:\n",
    "    aliceKey = f.read()\n",
    "print(\"Alice's Key: \", aliceKey)\n",
    "hashObject = SHA3_256.new()\n",
    "hashObject.update(aliceKey)\n",
    "key = hashObject.digest()\n",
    "print(\"Hash of Alice's key: \", key)"
   ]
  },
  {
   "cell_type": "markdown",
   "metadata": {},
   "source": [
    "# Steganography\n"
   ]
  },
  {
   "cell_type": "markdown",
   "metadata": {},
   "source": [
    "## Function Definition\n"
   ]
  },
  {
   "cell_type": "markdown",
   "metadata": {},
   "source": [
    "### Embedding\n"
   ]
  },
  {
   "cell_type": "markdown",
   "metadata": {},
   "source": [
    "#### Audio Clipping Function\n"
   ]
  },
  {
   "cell_type": "code",
   "execution_count": 5,
   "metadata": {},
   "outputs": [],
   "source": [
    "def clip_audio(audio_data, min_value=-32768, max_value=32767):\n",
    "    return np.clip(audio_data, min_value, max_value)"
   ]
  },
  {
   "cell_type": "markdown",
   "metadata": {},
   "source": [
    "#### Audio Embedding Function\n"
   ]
  },
  {
   "cell_type": "code",
   "execution_count": 6,
   "metadata": {},
   "outputs": [],
   "source": [
    "def embed_audio(carrier_path, secret_path, output_path, num_bits=8):\n",
    "    # Open the carrier and secret audio files\n",
    "    carrier = wave.open(carrier_path, 'rb')\n",
    "    secret = wave.open(secret_path, 'rb')\n",
    "    # Ensure compatibility between carrier and secret audio\n",
    "    if carrier.getnchannels() != secret.getnchannels() or carrier.getsampwidth() != secret.getsampwidth():\n",
    "        raise ValueError(\n",
    "            \"Carrier and secret audio must have the same number of channels and sample width.\")\n",
    "    # Read audio data\n",
    "    carrier_frames = np.frombuffer(carrier.readframes(\n",
    "        carrier.getnframes()), dtype=np.int16)\n",
    "    secret_frames = np.frombuffer(secret.readframes(\n",
    "        secret.getnframes()), dtype=np.int16)\n",
    "    # Ensure carrier has enough capacity to store secret\n",
    "    max_secret_length = len(carrier_frames) // (16 // num_bits)\n",
    "    if len(secret_frames) > max_secret_length:\n",
    "        raise ValueError(f\"Carrier audio cannot hold the secret audio. Max capacity: {\n",
    "                         max_secret_length}, got: {len(secret_frames)}.\")\n",
    "    # Resize the secret frames to match embedding capacity\n",
    "    padded_secret_frames = np.zeros(max_secret_length, dtype=np.int16)\n",
    "    padded_secret_frames[:len(secret_frames)] = secret_frames\n",
    "    # Embed the secret audio into the carrier\n",
    "    embedded_frames = np.copy(carrier_frames)\n",
    "    mask = (1 << num_bits) - 1  # Mask to isolate the LSBs\n",
    "    embedded_frames &= ~mask  # Clear the least significant bits\n",
    "    embedded_frames[:len(padded_secret_frames)] += (padded_secret_frames >>\n",
    "                                                    # Embed secret bits\n",
    "                                                    (16 - num_bits)) & mask\n",
    "    # Clip audio values to valid range\n",
    "    embedded_frames = clip_audio(embedded_frames)\n",
    "    # Write the embedded audio to a new file\n",
    "    embedded_audio = wave.open(output_path, 'wb')\n",
    "    embedded_audio.setparams(carrier.getparams())\n",
    "    embedded_audio.writeframes(embedded_frames.astype(np.int16).tobytes())\n",
    "    # Close files\n",
    "    carrier.close()\n",
    "    secret.close()\n",
    "    embedded_audio.close()\n",
    "    print(f\"Embedding complete. Saved to {output_path}\")"
   ]
  },
  {
   "cell_type": "markdown",
   "metadata": {},
   "source": [
    "### Extraction\n"
   ]
  },
  {
   "cell_type": "code",
   "execution_count": 7,
   "metadata": {},
   "outputs": [],
   "source": [
    "def extract_audio(embedded_path, secret_output_path, secret_length, num_bits=8):\n",
    "    # Open the embedded audio file\n",
    "    embedded = wave.open(embedded_path, 'rb')\n",
    "    # Read audio data\n",
    "    embedded_frames = np.frombuffer(embedded.readframes(\n",
    "        embedded.getnframes()), dtype=np.int16)\n",
    "    # Extract the secret audio\n",
    "    mask = (1 << num_bits) - 1  # Mask to isolate the embedded bits\n",
    "    extracted_bits = (embedded_frames & mask) << (16 - num_bits)\n",
    "    secret_frames = extracted_bits[:secret_length*2]\n",
    "    # Apply a low-pass filter to reduce noise\n",
    "    secret_frames = np.convolve(secret_frames, np.ones(\n",
    "        5)/5, mode='same')  # Simple smoothing (moving average)\n",
    "    # Clip audio values to valid range\n",
    "    secret_frames = clip_audio(secret_frames)\n",
    "    # Write the secret audio to a new file\n",
    "    secret_audio = wave.open(secret_output_path, 'wb')\n",
    "    secret_audio.setparams(embedded.getparams())\n",
    "    secret_audio.setnframes(secret_length)\n",
    "    secret_audio.writeframes(secret_frames.astype(np.int16).tobytes())\n",
    "    # Close files\n",
    "    embedded.close()\n",
    "    secret_audio.close()\n",
    "    print(f\"Extraction complete. Secret audio saved to {secret_output_path}\")"
   ]
  },
  {
   "cell_type": "markdown",
   "metadata": {},
   "source": [
    "## Implementation\n"
   ]
  },
  {
   "cell_type": "markdown",
   "metadata": {},
   "source": [
    "### Input\n"
   ]
  },
  {
   "cell_type": "code",
   "execution_count": 8,
   "metadata": {},
   "outputs": [],
   "source": [
    "# Carrier audio\n",
    "carrier_audio = \"cover.wav\"\n",
    "secret_audio = \"secret2.wav\"  # Secret audio\n",
    "embedded_audio = \"embedded2.wav\"  # Output for the embedded audio"
   ]
  },
  {
   "cell_type": "markdown",
   "metadata": {},
   "source": [
    "### Embed\n"
   ]
  },
  {
   "cell_type": "code",
   "execution_count": 9,
   "metadata": {},
   "outputs": [
    {
     "name": "stdout",
     "output_type": "stream",
     "text": [
      "Embedding complete. Saved to embedded2.wav\n"
     ]
    }
   ],
   "source": [
    "embed_audio(carrier_audio, secret_audio, embedded_audio, num_bits=8)"
   ]
  },
  {
   "cell_type": "markdown",
   "metadata": {},
   "source": [
    "# Encryption, Decryption, MAC Generation and Authentication\n"
   ]
  },
  {
   "cell_type": "markdown",
   "metadata": {},
   "source": [
    "## Function Definitions\n"
   ]
  },
  {
   "cell_type": "markdown",
   "metadata": {},
   "source": [
    "Encryption using the SHA3-256 digest of the final Ekert key.\n"
   ]
  },
  {
   "cell_type": "code",
   "execution_count": 10,
   "metadata": {},
   "outputs": [],
   "source": [
    "def encryptAudio(key, inputFile, outputFile, outputAudio):\n",
    "    with open(inputFile, 'rb') as inputFile:\n",
    "        audioData = inputFile.read()\n",
    "    header = b\"Stego Audio\"\n",
    "    cipher = ChaCha20_Poly1305.new(key=key)\n",
    "    cipher.update(header)\n",
    "    nonce = cipher.nonce\n",
    "    print(\"Nonce: \", nonce.hex())\n",
    "    ciphertext, tag = cipher.encrypt_and_digest(audioData)\n",
    "    print(\"Tag: \", tag.hex())\n",
    "    with open(outputAudio, 'wb') as outputAudio:\n",
    "        outputAudio.write(ciphertext)\n",
    "    with open(outputFile, 'wb') as outputFile:\n",
    "        outputFile.write(nonce+ciphertext+tag)"
   ]
  },
  {
   "cell_type": "markdown",
   "metadata": {},
   "source": [
    "Applying random bit flip to encrypted audio in order to simulate middle-man attack\n"
   ]
  },
  {
   "cell_type": "code",
   "execution_count": 11,
   "metadata": {},
   "outputs": [],
   "source": [
    "def addNoise(inputFile, noisyOutputFile):\n",
    "    with open(inputFile, 'rb') as inputFile:\n",
    "        noisyCiphertextBytes = bytearray(inputFile.read())\n",
    "        for x in range(100000):\n",
    "            indexToModify = np.random.randint(0, len(noisyCiphertextBytes)-1)\n",
    "            noisyCiphertextBytes[indexToModify] ^= np.random.randint(\n",
    "                0x00, 0xFF)\n",
    "        with open(noisyOutputFile, 'wb') as noisyOutputFile:\n",
    "            noisyOutputFile.write(noisyCiphertextBytes)"
   ]
  },
  {
   "cell_type": "markdown",
   "metadata": {},
   "source": [
    "Decryption\n"
   ]
  },
  {
   "cell_type": "code",
   "execution_count": 12,
   "metadata": {},
   "outputs": [],
   "source": [
    "def decryptAudio(key, inputFile, outputFile):\n",
    "    with open(inputFile, 'rb') as inputFile:\n",
    "        data = inputFile.read()\n",
    "        nonce = data[:12]\n",
    "        ciphertext = data[12:-16]\n",
    "        tag = data[-16:]\n",
    "    header = b\"Stego Audio\"\n",
    "    cipher = ChaCha20_Poly1305.new(key=key, nonce=nonce)\n",
    "    cipher.update(header)\n",
    "    try:\n",
    "        decryptedAudio = cipher.decrypt_and_verify(ciphertext, tag)\n",
    "        with open(outputFile, 'wb') as outputFile:\n",
    "            outputFile.write(decryptedAudio)\n",
    "            print(\"Nonce: \", nonce.hex())\n",
    "            print(\"Tag: \", tag.hex())\n",
    "            print(\"Decryption and verification successful!\")\n",
    "    except ValueError:\n",
    "        print(\"Verification failed!\")"
   ]
  },
  {
   "cell_type": "markdown",
   "metadata": {},
   "source": [
    "## Implementation\n"
   ]
  },
  {
   "cell_type": "code",
   "execution_count": 13,
   "metadata": {},
   "outputs": [],
   "source": [
    "inputAudio = \"embedded2.wav\"\n",
    "outputAudio = \"encrypted2.wav\"\n",
    "output = \"encrypted2.bin\"\n",
    "decryptedAudio = \"decrypted2.wav\""
   ]
  },
  {
   "cell_type": "code",
   "execution_count": 14,
   "metadata": {},
   "outputs": [
    {
     "name": "stdout",
     "output_type": "stream",
     "text": [
      "Nonce:  41d1bcd34873575ad5a02988\n",
      "Tag:  19c6070362fafdafe6c085d6c2f4717c\n"
     ]
    }
   ],
   "source": [
    "encryptAudio(key, inputAudio, output, outputAudio)"
   ]
  },
  {
   "cell_type": "code",
   "execution_count": 15,
   "metadata": {},
   "outputs": [],
   "source": [
    "addNoise(\"encrypted2.bin\", \"noisy2.bin\")\n",
    "noisyOutput = \"noisy2.bin\""
   ]
  },
  {
   "cell_type": "code",
   "execution_count": 16,
   "metadata": {},
   "outputs": [
    {
     "name": "stdout",
     "output_type": "stream",
     "text": [
      "Nonce:  41d1bcd34873575ad5a02988\n",
      "Tag:  19c6070362fafdafe6c085d6c2f4717c\n",
      "Decryption and verification successful!\n"
     ]
    }
   ],
   "source": [
    "decryptAudio(key, output, decryptedAudio)"
   ]
  },
  {
   "cell_type": "code",
   "execution_count": 17,
   "metadata": {},
   "outputs": [
    {
     "name": "stdout",
     "output_type": "stream",
     "text": [
      "Verification failed!\n"
     ]
    }
   ],
   "source": [
    "decryptAudio(key, noisyOutput, \"outfile.bin\")"
   ]
  },
  {
   "cell_type": "markdown",
   "metadata": {},
   "source": [
    "# Extraction\n"
   ]
  },
  {
   "cell_type": "code",
   "execution_count": 18,
   "metadata": {},
   "outputs": [
    {
     "name": "stdout",
     "output_type": "stream",
     "text": [
      "Extraction complete. Secret audio saved to extracted2.wav\n"
     ]
    }
   ],
   "source": [
    "extracted_audio = \"extracted2.wav\"\n",
    "# extract_audio('embedded.wav', 'output.wav', 8)\n",
    "\n",
    "secret_audio_length = wave.open(\n",
    "    secret_audio, 'rb').getnframes()  # Length of the secret audio\n",
    "extract_audio(embedded_audio, extracted_audio, secret_audio_length)"
   ]
  },
  {
   "cell_type": "markdown",
   "metadata": {},
   "source": [
    "# Analysis\n"
   ]
  },
  {
   "cell_type": "markdown",
   "metadata": {},
   "source": [
    "Add embedded.wav and encrypted.bin as argument"
   ]
  },
  {
   "cell_type": "code",
   "execution_count": 2,
   "metadata": {},
   "outputs": [],
   "source": [
    "def createByteArray(embeddedFile, encryptedBinFile):\n",
    "    # Read embedded file as 16-bit integers (no slicing)\n",
    "    with open(embeddedFile, 'rb') as f:\n",
    "        embedded_data = f.read()\n",
    "    embedded_audio = np.frombuffer(embedded_data, dtype=np.uint16)  # or uint16\n",
    "\n",
    "    # Read encrypted file and slice ciphertext (bytes 12 to -16)\n",
    "    with open(encryptedBinFile, 'rb') as f:\n",
    "        data = f.read()\n",
    "    ciphertext = data[12:-16]  # Same byte slicing as before\n",
    "    encrypted_audio = np.frombuffer(\n",
    "        ciphertext, dtype=np.uint16)  # 16-bit values\n",
    "\n",
    "    return [embedded_audio, encrypted_audio]"
   ]
  },
  {
   "cell_type": "markdown",
   "metadata": {},
   "source": [
    "## Entropy Calculation and Comparison"
   ]
  },
  {
   "cell_type": "code",
   "execution_count": 12,
   "metadata": {},
   "outputs": [],
   "source": [
    "def calculateEntropy(embeddedFile, encryptedBinFile):\n",
    "    embeddedAudio, encryptedAudio = createByteArray(\n",
    "        embeddedFile, encryptedBinFile)\n",
    "    audioFiles = [embeddedAudio, encryptedAudio]\n",
    "    for x in audioFiles:\n",
    "        hist, _ = np.histogram(x, bins=65536, range=(0, 65536))\n",
    "        # Calculate probability distribution\n",
    "        probabilities = hist / len(x)\n",
    "        # Remove zeros from probabilities (to avoid log2(0) errors)\n",
    "        probabilities = probabilities[probabilities > 0]\n",
    "        # Calculate entropy\n",
    "        entropy = -np.sum(probabilities * np.log2(probabilities))\n",
    "        if np.all(x == embeddedAudio):\n",
    "            print(\"Entropy of Original Audio: \", entropy)\n",
    "        else:\n",
    "            print(\"Entropy of Encrypted Audio: \", entropy)"
   ]
  },
  {
   "cell_type": "code",
   "execution_count": 15,
   "metadata": {},
   "outputs": [
    {
     "name": "stdout",
     "output_type": "stream",
     "text": [
      "Entropy of Original Audio:  9.792556077074044\n",
      "Entropy of Encrypted Audio:  15.998420782458867\n"
     ]
    }
   ],
   "source": [
    "calculateEntropy('decrypted2.wav', 'encrypted2.bin')"
   ]
  },
  {
   "cell_type": "markdown",
   "metadata": {},
   "source": [
    "## Correlation Calculation"
   ]
  },
  {
   "cell_type": "code",
   "execution_count": 3,
   "metadata": {},
   "outputs": [],
   "source": [
    "# def calculateCorrelation(embeddedFile, encryptedBinFile):\n",
    "#     embeddedAudio, encryptedAudio = createByteArray(\n",
    "#         embeddedFile, encryptedBinFile)\n",
    "#     correlation = np.corrcoef(embeddedAudio, encryptedAudio)[0, 1]\n",
    "#     print(\"Correlation Coefficient:\", correlation)\n",
    "def calculateCorrelation(embeddedFile, encryptedBinFile):\n",
    "    embeddedAudio, encryptedAudio = createByteArray(\n",
    "        embeddedFile, encryptedBinFile)\n",
    "\n",
    "    # Calculate correlation coefficient between adjacent samples for embedded audio\n",
    "    embedded_corr_coef = np.corrcoef(\n",
    "        embeddedAudio[:-1], embeddedAudio[1:])[0, 1]\n",
    "\n",
    "    # Calculate correlation coefficient between adjacent samples for encrypted audio\n",
    "    encrypted_corr_coef = np.corrcoef(\n",
    "        encryptedAudio[:-1], encryptedAudio[1:])[0, 1]\n",
    "\n",
    "    print(\"Correlation Coefficient (Embedded Audio):\", embedded_corr_coef)\n",
    "    print(\"Correlation Coefficient (Encrypted Audio):\", encrypted_corr_coef)"
   ]
  },
  {
   "cell_type": "code",
   "execution_count": 17,
   "metadata": {},
   "outputs": [
    {
     "name": "stdout",
     "output_type": "stream",
     "text": [
      "Correlation Coefficient (Embedded Audio): 0.5437499517001024\n",
      "Correlation Coefficient (Encrypted Audio): -1.9215651532491242e-05\n"
     ]
    }
   ],
   "source": [
    "calculateCorrelation('decrypted2.wav', 'encrypted1.bin')"
   ]
  },
  {
   "cell_type": "markdown",
   "metadata": {},
   "source": [
    "## UACI Calculation"
   ]
  },
  {
   "cell_type": "code",
   "execution_count": 5,
   "metadata": {},
   "outputs": [],
   "source": [
    "def calculateUACI(embeddedFile, encryptedBinFile):\n",
    "    embeddedAudio, encryptedAudio = createByteArray(\n",
    "        embeddedFile, encryptedBinFile)\n",
    "    maxVal = np.max(np.abs(embeddedAudio))\n",
    "    diff = np.abs(np.subtract(embeddedAudio, encryptedAudio))\n",
    "    uaci = (np.sum(diff)/len(diff))/maxVal*100\n",
    "    print(maxVal)\n",
    "    print(\"UACI: \", uaci)"
   ]
  },
  {
   "cell_type": "code",
   "execution_count": 18,
   "metadata": {},
   "outputs": [
    {
     "name": "stdout",
     "output_type": "stream",
     "text": [
      "65535\n",
      "UACI:  49.99185254293764\n"
     ]
    }
   ],
   "source": [
    "calculateUACI('embedded2.wav', 'encrypted2.bin')"
   ]
  },
  {
   "cell_type": "markdown",
   "metadata": {},
   "source": [
    "## NSCR Calculation"
   ]
  },
  {
   "cell_type": "code",
   "execution_count": 8,
   "metadata": {},
   "outputs": [],
   "source": [
    "def calculateNSCR(embeddedFile, encryptedBinFile):\n",
    "    embeddedAudio, encryptedAudio = createByteArray(\n",
    "        embeddedFile, encryptedBinFile)\n",
    "    nscr = 0\n",
    "    for i in range(len(embeddedAudio)):\n",
    "        if embeddedAudio[i] != encryptedAudio[i]:\n",
    "            nscr += 1\n",
    "    nscr = nscr/len(embeddedAudio)*100\n",
    "    print(\"NSCR: \", nscr)"
   ]
  },
  {
   "cell_type": "code",
   "execution_count": 20,
   "metadata": {},
   "outputs": [
    {
     "name": "stdout",
     "output_type": "stream",
     "text": [
      "NSCR:  99.9984527787054\n"
     ]
    }
   ],
   "source": [
    "calculateNSCR('embedded2.wav', 'encrypted2.bin')"
   ]
  },
  {
   "cell_type": "markdown",
   "metadata": {},
   "source": [
    "## Histogram Plot"
   ]
  },
  {
   "cell_type": "code",
   "execution_count": 2,
   "metadata": {},
   "outputs": [],
   "source": [
    "def plotHistogram(inputFile):\n",
    "    with open(inputFile, 'rb') as f:\n",
    "        data = np.frombuffer(f.read(), dtype=np.int16)\n",
    "    plt.hist(data, bins='auto', linewidth=2)\n",
    "    fileName = inputFile.split('.')[0]+'Histogram'+'.png'\n",
    "    plt.savefig(fileName, format='png', dpi=600)\n",
    "    plt.show"
   ]
  },
  {
   "cell_type": "markdown",
   "metadata": {},
   "source": [
    "## Spectrogram Plot"
   ]
  },
  {
   "cell_type": "code",
   "execution_count": 12,
   "metadata": {},
   "outputs": [],
   "source": [
    "def plotSpectrogram(inputFile):\n",
    "    with open(inputFile, 'rb') as f:\n",
    "        data = np.frombuffer(f.read(), dtype=np.int32)\n",
    "    plt.xlabel(\"Time (s)\")\n",
    "    plt.ylabel(\"Frequency (Hz)\")\n",
    "    plt.specgram(data, Fs=44100)\n",
    "    fileName = inputFile.split('.')[0]+'Spectrogram'+'.png'\n",
    "    plt.savefig(fileName, format='png', dpi=600)\n",
    "    plt.show"
   ]
  },
  {
   "cell_type": "markdown",
   "metadata": {},
   "source": [
    "## Correlation Map"
   ]
  },
  {
   "cell_type": "code",
   "execution_count": 19,
   "metadata": {},
   "outputs": [],
   "source": [
    "def plotCorrelation(inputFile):\n",
    "    with open(inputFile, 'rb') as f:\n",
    "        data = np.frombuffer(f.read(), dtype=np.int16)\n",
    "        plt.scatter(data, np.roll(data, 1), s=1, marker=\".\")\n",
    "        fileName = inputFile.split('.')[0]+'Correlation'+'.png'\n",
    "        plt.savefig(fileName, format='png', dpi=600)\n",
    "        plt.show"
   ]
  }
 ],
 "metadata": {
  "kernelspec": {
   "display_name": "Python 3",
   "language": "python",
   "name": "python3"
  },
  "language_info": {
   "codemirror_mode": {
    "name": "ipython",
    "version": 3
   },
   "file_extension": ".py",
   "mimetype": "text/x-python",
   "name": "python",
   "nbconvert_exporter": "python",
   "pygments_lexer": "ipython3",
   "version": "3.13.2"
  }
 },
 "nbformat": 4,
 "nbformat_minor": 2
}
