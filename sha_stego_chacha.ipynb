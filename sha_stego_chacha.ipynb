{
 "cells": [
  {
   "cell_type": "markdown",
   "metadata": {},
   "source": [
    "# Library Import\n"
   ]
  },
  {
   "cell_type": "code",
   "execution_count": 3,
   "metadata": {},
   "outputs": [],
   "source": [
    "import wave\n",
    "import numpy as np\n",
    "import matplotlib.pyplot as plt\n",
    "from Crypto.Hash import SHA3_256\n",
    "from Crypto.Cipher import ChaCha20_Poly1305\n",
    "from Crypto.Random import get_random_bytes"
   ]
  },
  {
   "cell_type": "markdown",
   "metadata": {},
   "source": [
    "# E91\n"
   ]
  },
  {
   "cell_type": "code",
   "execution_count": null,
   "metadata": {},
   "outputs": [],
   "source": []
  },
  {
   "cell_type": "markdown",
   "metadata": {},
   "source": [
    "# SHA-3 Digest\n"
   ]
  },
  {
   "cell_type": "code",
   "execution_count": 65,
   "metadata": {},
   "outputs": [
    {
     "name": "stdout",
     "output_type": "stream",
     "text": [
      "Alice's Key:  b'=x\\x12,\\x89\\xf3]\\xfat\\xc5\\x12**\\x9f\\x11\\xf1q~G\\x9c}\\xa9\\x0bw\\xb5\\xc8\\xb28\\xc4B\\xa6\\x9fn\\xf6\\x01#\\xe0\\x0c88+g\\x85EI!%\\xe8\\xd3\\xf0E\\x81\\xec\\xc3\\nI;#\\xca\\xdd\\x1d\\xda\\xc6\\xf7\\xcb\\xc8\\n+\\xe4L|33\\xde\"cNu\\xae\\xaa\\xb8\\x9c\\xc6/M+\\x12\\xc4\\x1b\\x91\\xa7O\\xd7\\xd7H\\xe0|\\xcc:3?\\x8a\\xd1$B,~\\x87m\\xab4\\xc7\\x19`\\xa2\\xf7\\xf1\\xef5ag\\'\\x92C\\xd26\\xf5\\xbc\\x05i\\xe4tC_^x\\xb0\\x10\\xfa>-C5Y\\x0c\\xb8\\x98+\\x1d.|\\xbcx\\x14{[\\x1a\\x07\\xb7\\xec\\x03\\xcf\\xcdr\\xfc\\x8a]\\\\Gq\\x93\\x94\\x89\\xc3\\x90\\xd3\\x15\\xf7\\x9b\\xcf/\\x10d\\xc10B\\xd2\\x16\\xd6\\x86i\\xf4(\\xa2B\\xee\\x91\\x1a1RI\\\\\\x02\\xdf\\xd1!\\xf7\\x04\\xba\\xff\\xd7\\xc9\\x8e\\xc1[\\xf0w\\x94]j\\xfant\\xac\\xe8_7,y\\xc1\\xa5\\x96\\xe4\\xd3U\\xbeF\\xff\\x8a1O\\xcbS\\xd7\\x93\\x99\\xa5\"P\\x9c\\x9f\\x88)c!\\xd1\\xc6\\xdd\\xbdI\\xc4\\xee\\x11)\\xaeZ\\xbcK\\x14\\x19\\xdb\\xd1\\xe9\\xa14\"\\xa9h\\xcf<\\xf8[\\x18\\xe7\\xd6Obx\\x80\\x1f@[2m\\xa2\\xb6t\\x1c\\xe0\\x19\\x96+\\x10\\x13\\\\\\xcc\\x87s\\xd2Q=\\xd1U\\xefG\\xfb2b_\\x03\\x1d\\xbd\\xf74\\x98#!O\\x7f6\\xe0\\xea^\\xa8D\\x02t\\xff&!tPy)\\xa3jV\\x91\\xfce\\xda\\xb4\\xe1\\xfbh\\x00\\xdf\\x02\\x85\\xf9\\xcc\\xbc\\x11\\xe9\\xc0\\xd0\\xd5\\x96\\xcc\\xc3\\x10\\x98\\xbe\\xa9\\xda\\xdd\\xc3~\\x87_\\xd9\\x904R\\x8d\\xb1\\x8d\\xf3r\\xd7\\x8cE\\xbft\\x880\\xce\\xeeDl\\xc7Y\\x00i\"\\x12!;\\x86:^\\xd0\\x8di.\\x10\\x90\\xc8\\nh\\x93\\x18\\xa9\\xf2\\nBbb_aD\\xfe\\xc4\\xaep\\x87\\x1a{\\x827>>\\x18\\x86\\xb0*noQ\\xf9y\\xd1\\'mD\\xd9(\\xe5w\\xdbF]L\\xb6\\x8f\\x1c\\x8a\\n\\xf9U\\xe6\\x03\\x13\\x01\\x19\\xd1\\xc4\\xf2\\xf9MF\\x84\\xd3\\x9c\\xf1\\x0c\\xf5I\\xcd\\x062\\t!\"\\xda;.G\\x8e\\xd0'\n",
      "Hash of Alice's key:  b'\\xe8\\xdd\\x7f\\x03d^\\xa8\\x92\\x842\\x1b\\xea\\xa0\\x15%\\xe4*\\n\\xcd\\n\\x99\\xd2\\xc1C:^\\t\\x86\\x0b\\x07\\xdc\\xa1'\n"
     ]
    }
   ],
   "source": [
    "aliceKey = get_random_bytes(500)\n",
    "print(\"Alice's Key: \", aliceKey)\n",
    "hashObject = SHA3_256.new()\n",
    "hashObject.update(aliceKey)\n",
    "key = hashObject.digest()\n",
    "print(\"Hash of Alice's key: \", key)"
   ]
  },
  {
   "cell_type": "markdown",
   "metadata": {},
   "source": [
    "# Steganography\n"
   ]
  },
  {
   "cell_type": "markdown",
   "metadata": {},
   "source": [
    "## Function Definition\n"
   ]
  },
  {
   "cell_type": "markdown",
   "metadata": {},
   "source": [
    "### Embedding\n"
   ]
  },
  {
   "cell_type": "markdown",
   "metadata": {},
   "source": [
    "#### Audio Clipping Function\n"
   ]
  },
  {
   "cell_type": "code",
   "execution_count": 66,
   "metadata": {},
   "outputs": [],
   "source": [
    "def clip_audio(audio_data, min_value=-32768, max_value=32767):\n",
    "    return np.clip(audio_data, min_value, max_value)"
   ]
  },
  {
   "cell_type": "markdown",
   "metadata": {},
   "source": [
    "#### Audio Embedding Function\n"
   ]
  },
  {
   "cell_type": "code",
   "execution_count": 67,
   "metadata": {},
   "outputs": [],
   "source": [
    "def embed_audio(carrier_path, secret_path, output_path, num_bits=8):\n",
    "    # Open the carrier and secret audio files\n",
    "    carrier = wave.open(carrier_path, 'rb')\n",
    "    secret = wave.open(secret_path, 'rb')\n",
    "    # Ensure compatibility between carrier and secret audio\n",
    "    if carrier.getnchannels() != secret.getnchannels() or carrier.getsampwidth() != secret.getsampwidth():\n",
    "        raise ValueError(\n",
    "            \"Carrier and secret audio must have the same number of channels and sample width.\")\n",
    "    # Read audio data\n",
    "    carrier_frames = np.frombuffer(carrier.readframes(\n",
    "        carrier.getnframes()), dtype=np.int16)\n",
    "    secret_frames = np.frombuffer(secret.readframes(\n",
    "        secret.getnframes()), dtype=np.int16)\n",
    "    # Ensure carrier has enough capacity to store secret\n",
    "    max_secret_length = len(carrier_frames) // (16 // num_bits)\n",
    "    if len(secret_frames) > max_secret_length:\n",
    "        raise ValueError(f\"Carrier audio cannot hold the secret audio. Max capacity: {\n",
    "                         max_secret_length}, got: {len(secret_frames)}.\")\n",
    "    # Resize the secret frames to match embedding capacity\n",
    "    padded_secret_frames = np.zeros(max_secret_length, dtype=np.int16)\n",
    "    padded_secret_frames[:len(secret_frames)] = secret_frames\n",
    "    # Embed the secret audio into the carrier\n",
    "    embedded_frames = np.copy(carrier_frames)\n",
    "    mask = (1 << num_bits) - 1  # Mask to isolate the LSBs\n",
    "    embedded_frames &= ~mask  # Clear the least significant bits\n",
    "    embedded_frames[:len(padded_secret_frames)] += (padded_secret_frames >>\n",
    "                                                    # Embed secret bits\n",
    "                                                    (16 - num_bits)) & mask\n",
    "    # Clip audio values to valid range\n",
    "    embedded_frames = clip_audio(embedded_frames)\n",
    "    # Write the embedded audio to a new file\n",
    "    embedded_audio = wave.open(output_path, 'wb')\n",
    "    embedded_audio.setparams(carrier.getparams())\n",
    "    embedded_audio.writeframes(embedded_frames.astype(np.int16).tobytes())\n",
    "    # Close files\n",
    "    carrier.close()\n",
    "    secret.close()\n",
    "    embedded_audio.close()\n",
    "    print(f\"Embedding complete. Saved to {output_path}\")"
   ]
  },
  {
   "cell_type": "markdown",
   "metadata": {},
   "source": [
    "### Extraction\n"
   ]
  },
  {
   "cell_type": "code",
   "execution_count": 68,
   "metadata": {},
   "outputs": [],
   "source": [
    "def extract_audio(embedded_path, secret_output_path, secret_length, num_bits=8):\n",
    "    # Open the embedded audio file\n",
    "    embedded = wave.open(embedded_path, 'rb')\n",
    "    # Read audio data\n",
    "    embedded_frames = np.frombuffer(embedded.readframes(\n",
    "        embedded.getnframes()), dtype=np.int16)\n",
    "    # Extract the secret audio\n",
    "    mask = (1 << num_bits) - 1  # Mask to isolate the embedded bits\n",
    "    extracted_bits = (embedded_frames & mask) << (16 - num_bits)\n",
    "    secret_frames = extracted_bits[:secret_length*2]\n",
    "    # Apply a low-pass filter to reduce noise\n",
    "    secret_frames = np.convolve(secret_frames, np.ones(\n",
    "        5)/5, mode='same')  # Simple smoothing (moving average)\n",
    "    # Clip audio values to valid range\n",
    "    secret_frames = clip_audio(secret_frames)\n",
    "    # Write the secret audio to a new file\n",
    "    secret_audio = wave.open(secret_output_path, 'wb')\n",
    "    secret_audio.setparams(embedded.getparams())\n",
    "    secret_audio.setnframes(secret_length)\n",
    "    secret_audio.writeframes(secret_frames.astype(np.int16).tobytes())\n",
    "    # Close files\n",
    "    embedded.close()\n",
    "    secret_audio.close()\n",
    "    print(f\"Extraction complete. Secret audio saved to {secret_output_path}\")"
   ]
  },
  {
   "cell_type": "markdown",
   "metadata": {},
   "source": [
    "## Implementation\n"
   ]
  },
  {
   "cell_type": "markdown",
   "metadata": {},
   "source": [
    "### Input\n"
   ]
  },
  {
   "cell_type": "code",
   "execution_count": 69,
   "metadata": {},
   "outputs": [],
   "source": [
    "# Carrier audio\n",
    "carrier_audio = \"cover.wav\"\n",
    "secret_audio = \"secret2.wav\"  # Secret audio\n",
    "embedded_audio = \"embedded2.wav\"  # Output for the embedded audio"
   ]
  },
  {
   "cell_type": "markdown",
   "metadata": {},
   "source": [
    "### Embed\n"
   ]
  },
  {
   "cell_type": "code",
   "execution_count": 70,
   "metadata": {},
   "outputs": [
    {
     "name": "stdout",
     "output_type": "stream",
     "text": [
      "Embedding complete. Saved to embedded2.wav\n"
     ]
    }
   ],
   "source": [
    "embed_audio(carrier_audio, secret_audio, embedded_audio, num_bits=8)"
   ]
  },
  {
   "cell_type": "markdown",
   "metadata": {},
   "source": [
    "# Encryption, Decryption, MAC Generation and Authentication\n"
   ]
  },
  {
   "cell_type": "markdown",
   "metadata": {},
   "source": [
    "## Function Definitions\n"
   ]
  },
  {
   "cell_type": "markdown",
   "metadata": {},
   "source": [
    "Encryption using the SHA3-256 digest of the final Ekert key.\n"
   ]
  },
  {
   "cell_type": "code",
   "execution_count": 71,
   "metadata": {},
   "outputs": [],
   "source": [
    "def encryptAudio(key, inputFile, outputFile, outputAudio):\n",
    "    with open(inputFile, 'rb') as inputFile:\n",
    "        audioData = inputFile.read()\n",
    "    header = b\"Stego Audio\"\n",
    "    cipher = ChaCha20_Poly1305.new(key=key)\n",
    "    cipher.update(header)\n",
    "    nonce = cipher.nonce\n",
    "    print(\"Nonce: \", nonce.hex())\n",
    "    ciphertext, tag = cipher.encrypt_and_digest(audioData)\n",
    "    print(\"Tag: \", tag.hex())\n",
    "    with open(outputAudio, 'wb') as outputAudio:\n",
    "        outputAudio.write(ciphertext)\n",
    "    with open(outputFile, 'wb') as outputFile:\n",
    "        outputFile.write(nonce+ciphertext+tag)"
   ]
  },
  {
   "cell_type": "markdown",
   "metadata": {},
   "source": [
    "Applying random bit flip to encrypted audio in order to simulate middle-man attack\n"
   ]
  },
  {
   "cell_type": "code",
   "execution_count": 72,
   "metadata": {},
   "outputs": [],
   "source": [
    "def addNoise(inputFile, noisyOutputFile):\n",
    "    with open(inputFile, 'rb') as inputFile:\n",
    "        noisyCiphertextBytes = bytearray(inputFile.read())\n",
    "        for x in range(100000):\n",
    "            indexToModify = np.random.randint(0, len(noisyCiphertextBytes)-1)\n",
    "            noisyCiphertextBytes[indexToModify] ^= np.random.randint(\n",
    "                0x00, 0xFF)\n",
    "        with open(noisyOutputFile, 'wb') as noisyOutputFile:\n",
    "            noisyOutputFile.write(noisyCiphertextBytes)"
   ]
  },
  {
   "cell_type": "markdown",
   "metadata": {},
   "source": [
    "Decryption\n"
   ]
  },
  {
   "cell_type": "code",
   "execution_count": 73,
   "metadata": {},
   "outputs": [],
   "source": [
    "def decryptAudio(key, inputFile, outputFile):\n",
    "    with open(inputFile, 'rb') as inputFile:\n",
    "        data = inputFile.read()\n",
    "        nonce = data[:12]\n",
    "        ciphertext = data[12:-16]\n",
    "        tag = data[-16:]\n",
    "    header = b\"Stego Audio\"\n",
    "    cipher = ChaCha20_Poly1305.new(key=key, nonce=nonce)\n",
    "    cipher.update(header)\n",
    "    try:\n",
    "        decryptedAudio = cipher.decrypt_and_verify(ciphertext, tag)\n",
    "        with open(outputFile, 'wb') as outputFile:\n",
    "            outputFile.write(decryptedAudio)\n",
    "            print(\"Nonce: \", nonce.hex())\n",
    "            print(\"Tag: \", tag.hex())\n",
    "            print(\"Decryption and verification successful!\")\n",
    "    except ValueError:\n",
    "        print(\"Verification failed!\")"
   ]
  },
  {
   "cell_type": "markdown",
   "metadata": {},
   "source": [
    "## Implementation\n"
   ]
  },
  {
   "cell_type": "code",
   "execution_count": 74,
   "metadata": {},
   "outputs": [],
   "source": [
    "inputAudio = \"embedded2.wav\"\n",
    "outputAudio = \"encrypted2.wav\"\n",
    "output = \"encrypted2.bin\"\n",
    "decryptedAudio = \"decrypted2.wav\""
   ]
  },
  {
   "cell_type": "code",
   "execution_count": 75,
   "metadata": {},
   "outputs": [
    {
     "name": "stdout",
     "output_type": "stream",
     "text": [
      "Nonce:  7eb7d80f21b86f3a7fa7e16b\n",
      "Tag:  9e6a1b409637aaa3c8c050d5a2ee8934\n"
     ]
    }
   ],
   "source": [
    "encryptAudio(key, inputAudio, output, outputAudio)"
   ]
  },
  {
   "cell_type": "code",
   "execution_count": 76,
   "metadata": {},
   "outputs": [],
   "source": [
    "addNoise(\"encrypted2.bin\", \"noisy2.bin\")\n",
    "noisyOutput = \"noisy2.bin\""
   ]
  },
  {
   "cell_type": "code",
   "execution_count": 77,
   "metadata": {},
   "outputs": [
    {
     "name": "stdout",
     "output_type": "stream",
     "text": [
      "Nonce:  7eb7d80f21b86f3a7fa7e16b\n",
      "Tag:  9e6a1b409637aaa3c8c050d5a2ee8934\n",
      "Decryption and verification successful!\n"
     ]
    }
   ],
   "source": [
    "decryptAudio(key, output, decryptedAudio)"
   ]
  },
  {
   "cell_type": "code",
   "execution_count": 78,
   "metadata": {},
   "outputs": [
    {
     "name": "stdout",
     "output_type": "stream",
     "text": [
      "Verification failed!\n"
     ]
    }
   ],
   "source": [
    "decryptAudio(key, noisyOutput, \"outfile.bin\")"
   ]
  },
  {
   "cell_type": "markdown",
   "metadata": {},
   "source": [
    "# Extraction\n"
   ]
  },
  {
   "cell_type": "code",
   "execution_count": 79,
   "metadata": {},
   "outputs": [
    {
     "name": "stdout",
     "output_type": "stream",
     "text": [
      "Extraction complete. Secret audio saved to retrieved_audio2.wav\n"
     ]
    }
   ],
   "source": [
    "extracted_audio = \"retrieved_audio2.wav\"\n",
    "# extract_audio('embedded.wav', 'output.wav', 8)\n",
    "\n",
    "secret_audio_length = wave.open(\n",
    "    secret_audio, 'rb').getnframes()  # Length of the secret audio\n",
    "extract_audio(embedded_audio, extracted_audio, secret_audio_length)"
   ]
  },
  {
   "cell_type": "markdown",
   "metadata": {},
   "source": [
    "# Analysis\n"
   ]
  },
  {
   "cell_type": "markdown",
   "metadata": {},
   "source": [
    "Add embedded.wav and encrypted.bin as argument"
   ]
  },
  {
   "cell_type": "code",
   "execution_count": 4,
   "metadata": {},
   "outputs": [],
   "source": [
    "def createByteArray(embeddedFile, encryptedBinFile):\n",
    "    with open(embeddedFile, 'rb') as f:\n",
    "        embeddedAudio = bytearray(f.read())\n",
    "    with open(encryptedBinFile, 'rb') as f:\n",
    "        data = f.read()\n",
    "        ciphertext = data[12:-16]\n",
    "        encryptedAudio = bytearray(ciphertext)\n",
    "    byteArray = [embeddedAudio, encryptedAudio]\n",
    "    return byteArray"
   ]
  },
  {
   "cell_type": "markdown",
   "metadata": {},
   "source": [
    "## Entropy Calculation and Comparison"
   ]
  },
  {
   "cell_type": "code",
   "execution_count": 1,
   "metadata": {},
   "outputs": [],
   "source": [
    "def calculateEntropy(embeddedFile, encryptedBinFile):\n",
    "    embeddedAudio, encryptedAudio = createByteArray(\n",
    "        embeddedFile, encryptedBinFile)\n",
    "    audioFiles = [embeddedAudio, encryptedAudio]\n",
    "    for x in audioFiles:\n",
    "        hist, _ = np.histogram(x, bins=256, range=(0, 256))\n",
    "        # Calculate probability distribution\n",
    "        probabilities = hist / len(x)\n",
    "        # Remove zeros from probabilities (to avoid log2(0) errors)\n",
    "        probabilities = probabilities[probabilities > 0]\n",
    "        # Calculate entropy\n",
    "        entropy = -np.sum(probabilities * np.log2(probabilities))\n",
    "        if x == embeddedAudio:\n",
    "            print(\"Entropy of Original Audio: \", entropy)\n",
    "        else:\n",
    "            print(\"Entropy of Encrypted Audio: \", entropy)"
   ]
  },
  {
   "cell_type": "code",
   "execution_count": 5,
   "metadata": {},
   "outputs": [
    {
     "name": "stdout",
     "output_type": "stream",
     "text": [
      "Entropy of Original Audio:  5.343236996344665\n",
      "Entropy of Encrypted Audio:  7.99999700154831\n"
     ]
    }
   ],
   "source": [
    "calculateEntropy('embedded1.wav', 'encrypted1.bin')"
   ]
  },
  {
   "cell_type": "markdown",
   "metadata": {},
   "source": [
    "## Correlation Calculation"
   ]
  },
  {
   "cell_type": "code",
   "execution_count": 9,
   "metadata": {},
   "outputs": [],
   "source": [
    "def calculateCorrelation(embeddedFile, encryptedBinFile):\n",
    "    embeddedAudio, encryptedAudio = createByteArray(\n",
    "        embeddedFile, encryptedBinFile)\n",
    "    correlation = np.corrcoef(embeddedAudio, encryptedAudio)[0, 1]\n",
    "    print(\"Correlation Coefficient:\", correlation)"
   ]
  },
  {
   "cell_type": "code",
   "execution_count": 11,
   "metadata": {},
   "outputs": [
    {
     "name": "stdout",
     "output_type": "stream",
     "text": [
      "Correlation Coefficient: -0.0001969823910425479\n"
     ]
    }
   ],
   "source": [
    "calculateCorrelation('embedded1.wav', 'encrypted1.bin')"
   ]
  },
  {
   "cell_type": "markdown",
   "metadata": {},
   "source": [
    "## UACI Calculation"
   ]
  },
  {
   "cell_type": "code",
   "execution_count": 2,
   "metadata": {},
   "outputs": [],
   "source": [
    "def calculateUACI(embeddedFile, encryptedBinFile):\n",
    "    embeddedAudio, encryptedAudio = createByteArray(\n",
    "        embeddedFile, encryptedBinFile)\n",
    "    maxVal = np.max(np.abs(embeddedAudio))\n",
    "    diff = np.abs(np.subtract(embeddedAudio, encryptedAudio))\n",
    "    sumDiff = np.sum(diff)/len(diff)\n",
    "    uaci = sumDiff/maxVal*100\n",
    "    print(\"UACI: \", uaci)"
   ]
  },
  {
   "cell_type": "code",
   "execution_count": 5,
   "metadata": {},
   "outputs": [
    {
     "name": "stdout",
     "output_type": "stream",
     "text": [
      "UACI:  49.998294871449374\n"
     ]
    }
   ],
   "source": [
    "calculateUACI('embedded1.wav', 'encrypted1.bin')"
   ]
  },
  {
   "cell_type": "markdown",
   "metadata": {},
   "source": [
    "## NSCR Calculation"
   ]
  },
  {
   "cell_type": "code",
   "execution_count": 6,
   "metadata": {},
   "outputs": [],
   "source": [
    "def calculateNSCR(embeddedFile, encryptedBinFile):\n",
    "    embeddedAudio, encryptedAudio = createByteArray(\n",
    "        embeddedFile, encryptedBinFile)\n",
    "    nscr = 0\n",
    "    for i in range(len(embeddedAudio)):\n",
    "        if embeddedAudio[i] != encryptedAudio[i]:\n",
    "            nscr += 1\n",
    "    nscr = nscr/len(embeddedAudio)*100\n",
    "    print(\"NSCR: \", nscr)"
   ]
  },
  {
   "cell_type": "code",
   "execution_count": 7,
   "metadata": {},
   "outputs": [
    {
     "name": "stdout",
     "output_type": "stream",
     "text": [
      "NSCR:  99.60953638738931\n"
     ]
    }
   ],
   "source": [
    "calculateNSCR('embedded1.wav', 'encrypted1.bin')"
   ]
  }
 ],
 "metadata": {
  "kernelspec": {
   "display_name": "Python 3",
   "language": "python",
   "name": "python3"
  },
  "language_info": {
   "codemirror_mode": {
    "name": "ipython",
    "version": 3
   },
   "file_extension": ".py",
   "mimetype": "text/x-python",
   "name": "python",
   "nbconvert_exporter": "python",
   "pygments_lexer": "ipython3",
   "version": "3.13.2"
  }
 },
 "nbformat": 4,
 "nbformat_minor": 2
}
